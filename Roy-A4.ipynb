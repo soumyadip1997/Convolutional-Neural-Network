{
  "nbformat": 4,
  "nbformat_minor": 0,
  "metadata": {
    "kernelspec": {
      "name": "python3",
      "display_name": "Python 3"
    },
    "language_info": {
      "codemirror_mode": {
        "name": "ipython",
        "version": 3
      },
      "file_extension": ".py",
      "mimetype": "text/x-python",
      "name": "python",
      "nbconvert_exporter": "python",
      "pygments_lexer": "ipython3",
      "version": "3.7.4"
    },
    "colab": {
      "name": "Roy-A4.ipynb",
      "provenance": [],
      "collapsed_sections": [],
      "toc_visible": true
    },
    "accelerator": "GPU"
  },
  "cells": [
    {
      "cell_type": "code",
      "metadata": {
        "id": "kNNheFGkuECv",
        "colab_type": "code",
        "colab": {}
      },
      "source": [
        "import numpy as np\n",
        "import torch\n",
        "import time\n",
        "import copy\n",
        "import sys\n",
        "\n",
        "class NeuralNetwork_Convolutional():\n",
        "    \n",
        "    def __init__(self, n_channels_in_image, image_size,\n",
        "                 n_units_in_conv_layers, kernels_size_and_stride,\n",
        "                 n_units_in_fc_hidden_layers,\n",
        "                 classes, use_gpu=False):\n",
        "\n",
        "        if not isinstance(n_units_in_conv_layers, list):\n",
        "            raise Exception('n_units_in_conv_layers must be a list')\n",
        "\n",
        "        if not isinstance(n_units_in_fc_hidden_layers, list):\n",
        "            raise Exception('n_units_in_fc_hidden_layers must be a list')\n",
        "        \n",
        "        if use_gpu and not torch.cuda.is_available():\n",
        "            print('\\nGPU is not available. Running on CPU.\\n')\n",
        "            use_gpu = False\n",
        "\n",
        "        self.n_channels_in_image = n_channels_in_image\n",
        "        self.image_size = image_size \n",
        "        self.n_units_in_conv_layers = n_units_in_conv_layers\n",
        "        self.n_units_in_fc_hidden_layers = n_units_in_fc_hidden_layers\n",
        "        self.kernels_size_and_stride = kernels_size_and_stride\n",
        "        self.n_outputs = len(classes)\n",
        "        self.classes = np.array(classes)\n",
        "        self.use_gpu = use_gpu\n",
        "        \n",
        "        self.n_conv_layers = len(self.n_units_in_conv_layers)\n",
        "        self.n_fc_hidden_layers = len(self.n_units_in_fc_hidden_layers)\n",
        "\n",
        "        # Build the net layers\n",
        "        self.nnet = torch.nn.Sequential()\n",
        "        self.training_time=0\n",
        "        # Add convolutional layers\n",
        "\n",
        "        n_units_previous = self.n_channels_in_image\n",
        "        output_size_previous = self.image_size\n",
        "        n_layers = 0\n",
        "        if self.n_conv_layers > 0:\n",
        "\n",
        "            for (n_units, kernel) in zip(self.n_units_in_conv_layers, self.kernels_size_and_stride):\n",
        "                n_units_previous, output_size_previous = self._add_conv2d_tanh(n_layers,\n",
        "                                        n_units_previous, output_size_previous, n_units, kernel)\n",
        "                n_layers += 1 # for text label in layer\n",
        "                \n",
        "        # A4.3 version moved following statement left one indent level\n",
        "        \n",
        "        self.nnet.add_module('flatten', torch.nn.Flatten())  # prepare for fc layers\n",
        "\n",
        "        n_inputs = output_size_previous ** 2 * n_units_previous\n",
        "        if self.n_fc_hidden_layers > 0:\n",
        "            for n_units in self.n_units_in_fc_hidden_layers:\n",
        "                n_inputs = self._add_fc_tanh(n_layers, n_inputs, n_units)\n",
        "                n_layers += 1\n",
        "\n",
        "        self.nnet.add_module(f'output_{n_layers}', torch.nn.Linear(n_inputs, self.n_outputs))\n",
        "\n",
        "        # Member variables for standardization\n",
        "        self.Xmeans = None\n",
        "        self.Xstds = None\n",
        "\n",
        "        if self.use_gpu:\n",
        "            self.nnet.cuda()\n",
        "\n",
        "        self.n_epochs = 0\n",
        "        self.error_trace = []\n",
        "\n",
        "    def _add_conv2d_tanh(self, n_layers, n_units_previous, output_size_previous,\n",
        "                   n_units, kernel_size_and_stride):\n",
        "        kernel_size, kernel_stride = kernel_size_and_stride\n",
        "        self.nnet.add_module(f'conv_{n_layers}', torch.nn.Conv2d(n_units_previous, n_units,\n",
        "                                                                 kernel_size, kernel_stride))\n",
        "        self.nnet.add_module(f'output_{n_layers}', torch.nn.Tanh())\n",
        "        output_size_previous = (output_size_previous - kernel_size) // kernel_stride + 1\n",
        "        n_units_previous = n_units                \n",
        "        return n_units_previous, output_size_previous\n",
        "    \n",
        "    def _add_fc_tanh(self, n_layers, n_inputs, n_units):\n",
        "        self.nnet.add_module(f'linear_{n_layers}', torch.nn.Linear(n_inputs, n_units))\n",
        "        self.nnet.add_module(f'output_{n_layers}', torch.nn.Tanh())\n",
        "        n_inputs = n_units\n",
        "        return n_inputs\n",
        "\n",
        "    def __repr__(self):\n",
        "        str = f'''{type(self).__name__}(\n",
        "                            n_channels_in_image={self.n_channels_in_image},\n",
        "                            image_size={self.image_size},\n",
        "                            n_units_in_conv_layers={self.n_units_in_conv_layers},\n",
        "                            kernels_size_and_stride={self.kernels_size_and_stride},\n",
        "                            n_units_in_fc_hidden_layers={self.n_units_in_fc_hidden_layers},\n",
        "                            classes={self.classes},\n",
        "                            use_gpu={self.use_gpu})'''\n",
        "\n",
        "        str += self.nnet\n",
        "        if self.n_epochs > 0:\n",
        "            str += f'\\n   Network was trained for {self.n_epochs} epochs that took {self.training_time:.4f} seconds.'\n",
        "            str += f'\\n   Final objective value is {self.error_trace[-1]:.3f}'\n",
        "        else:\n",
        "            str += '  Network is not trained.'\n",
        "        return str\n",
        "        \n",
        "    def _standardizeX(self, X):\n",
        "        result = (X - self.Xmeans) / self.XstdsFixed\n",
        "        result[:, self.Xconstant] = 0.0\n",
        "        return result\n",
        "\n",
        "    def _unstandardizeX(self, Xs):\n",
        "        return self.Xstds * Xs + self.Xmeans\n",
        "\n",
        "    def _setup_standardize(self, X, T):\n",
        "        if self.Xmeans is None:\n",
        "            self.Xmeans = X.mean(axis=0)\n",
        "            self.Xstds = X.std(axis=0)\n",
        "            self.Xconstant = self.Xstds == 0\n",
        "            self.XstdsFixed = copy.copy(self.Xstds)\n",
        "            self.XstdsFixed[self.Xconstant] = 1\n",
        "\n",
        "    def train(self, X, T, n_epochs, learning_rate=0.01):\n",
        "\n",
        "        start_time = time.time()\n",
        "        \n",
        "        self.learning_rate = learning_rate\n",
        "\n",
        "        if T.ndim == 1:\n",
        "            T = T.reshape((-1, 1))\n",
        "\n",
        "        _, T = np.where(T == self.classes)  # convert to labels from 0\n",
        "\n",
        "        self._setup_standardize(X, T)\n",
        "        X = self._standardizeX(X)\n",
        "\n",
        "        X = torch.tensor(X)\n",
        "        T = torch.tensor(T.reshape(-1))\n",
        "        if self.use_gpu:\n",
        "            X = X.cuda()\n",
        "            T = T.cuda()\n",
        "\n",
        "            \n",
        "        #    You fill in the rest of the train function, following lecture notes example.\n",
        "        #    .\n",
        "        #  \n",
        "        optimizer = torch.optim.Adam(self.nnet.parameters(), lr=learning_rate)\n",
        "        loss_F = torch.nn.CrossEntropyLoss()\n",
        "        for epoch in range(n_epochs):\n",
        "    \n",
        "          optimizer.zero_grad()\n",
        "        \n",
        "          Y = self.nnet(X)\n",
        "    \n",
        "          error = loss_F(Y, T)\n",
        "          if epoch % 50 == 0:\n",
        "              print(f'Epoch {epoch} error {error}')\n",
        "                      \n",
        "          self.error_trace.append(error)\n",
        "          error.backward()\n",
        "          \n",
        "          optimizer.step()\n",
        "        stop_time=time.time()\n",
        "        self.training_time=stop_time-start_time\n",
        "        \n",
        "    def get_error_trace(self):\n",
        "        return self.error_trace\n",
        "    \n",
        "    def _softmax(self, Y):\n",
        "        mx = Y.max()\n",
        "        expY = np.exp(Y - mx)\n",
        "        denom = expY.sum(axis=1).reshape((-1, 1)) + sys.float_info.epsilon\n",
        "        return expY / denom\n",
        "    \n",
        "    def use(self, X):\n",
        "        self.nnet.eval()  # turn off gradients and other aspects of training\n",
        "        X = self._standardizeX(X)\n",
        "        X = torch.tensor(X)\n",
        "        if self.use_gpu:\n",
        "            X = X.cuda()\n",
        "\n",
        "        Y = self.nnet(X)\n",
        "\n",
        "        if self.use_gpu:\n",
        "            Y = Y.cpu()\n",
        "        Y = Y.detach().numpy()\n",
        "        Yclasses = self.classes[Y.argmax(axis=1)].reshape((-1, 1))\n",
        "\n",
        "        return Yclasses, self._softmax(Y)"
      ],
      "execution_count": 0,
      "outputs": []
    },
    {
      "cell_type": "markdown",
      "metadata": {
        "id": "MQ5G_bCEuEC2",
        "colab_type": "text"
      },
      "source": [
        "## Simple Example with Squares and Diamonds\n",
        "\n",
        "Repeating the example from lecture notes."
      ]
    },
    {
      "cell_type": "code",
      "metadata": {
        "id": "UfRjmWfsuEC3",
        "colab_type": "code",
        "colab": {}
      },
      "source": [
        "import matplotlib.pyplot as plt"
      ],
      "execution_count": 0,
      "outputs": []
    },
    {
      "cell_type": "code",
      "metadata": {
        "id": "kqk44FCduEC9",
        "colab_type": "code",
        "outputId": "5dbe9f4f-faa0-4087-858b-d4e39e86b83d",
        "colab": {
          "base_uri": "https://localhost:8080/",
          "height": 34
        }
      },
      "source": [
        "def make_images(nEach):\n",
        "    images = np.zeros((nEach * 2, 1, 20, 20))  # nSamples, nChannels, rows, columns\n",
        "    radii = 3 + np.random.randint(10 - 5, size=(nEach * 2, 1))\n",
        "    centers = np.zeros((nEach * 2, 2))\n",
        "    for i in range(nEach * 2):\n",
        "        r = radii[i, 0]\n",
        "        centers[i, :] = r + 1 + np.random.randint(18 - 2 * r, size=(1, 2))\n",
        "        x = int(centers[i, 0])\n",
        "        y = int(centers[i, 1])\n",
        "        if i < nEach:\n",
        "            # squares\n",
        "            images[i, 0, x - r:x + r, y + r] = 1.0\n",
        "            images[i, 0, x - r:x + r, y - r] = 1.0\n",
        "            images[i, 0, x - r, y - r:y + r] = 1.0\n",
        "            images[i, 0, x + r, y - r:y + r + 1] = 1.0\n",
        "        else:\n",
        "            # diamonds\n",
        "            images[i, 0, range(x - r, x), range(y, y + r)] = 1.0\n",
        "            images[i, 0, range(x - r, x), range(y, y - r, -1)] = 1.0\n",
        "            images[i, 0, range(x, x + r + 1), range(y + r, y - 1, -1)] = 1.0\n",
        "            images[i, 0, range(x, x + r), range(y - r, y)] = 1.0\n",
        "            # images += np.random.randn(*images.shape) * 0.5\n",
        "            T = np.ones((nEach * 2, 1))\n",
        "            T[nEach:] = 2\n",
        "    return images.astype(np.float32), T.astype(np.int)\n",
        "\n",
        "Xtrain, Ttrain = make_images(500)\n",
        "Xtest, Ttest = make_images(10)\n",
        "\n",
        "Xtrain.shape, Ttrain.shape, Xtest.shape, Ttest.shape"
      ],
      "execution_count": 0,
      "outputs": [
        {
          "output_type": "execute_result",
          "data": {
            "text/plain": [
              "((1000, 1, 20, 20), (1000, 1), (20, 1, 20, 20), (20, 1))"
            ]
          },
          "metadata": {
            "tags": []
          },
          "execution_count": 3
        }
      ]
    },
    {
      "cell_type": "code",
      "metadata": {
        "id": "nwEDh6bzuEDC",
        "colab_type": "code",
        "outputId": "f14009d3-aaf2-44fb-c07e-d43b8e5fed7a",
        "colab": {
          "base_uri": "https://localhost:8080/",
          "height": 50
        }
      },
      "source": [
        "nnet = NeuralNetwork_Convolutional(n_channels_in_image=Xtrain.shape[1],\n",
        "                                   image_size=Xtrain.shape[2],\n",
        "                                   n_units_in_conv_layers=[5],\n",
        "                                   kernels_size_and_stride=[[3,2]],# , 5],\n",
        "                                   n_units_in_fc_hidden_layers=[2], # 10, 10],\n",
        "                                   classes=[1, 2],\n",
        "                                   use_gpu=True)\n",
        "\n",
        "nnet.train(Xtrain, Ttrain, 100, learning_rate=0.01)"
      ],
      "execution_count": 0,
      "outputs": [
        {
          "output_type": "stream",
          "text": [
            "Epoch 0 error 0.6857492923736572\n",
            "Epoch 50 error 0.10350113362073898\n"
          ],
          "name": "stdout"
        }
      ]
    },
    {
      "cell_type": "code",
      "metadata": {
        "id": "7ClZEXByuEDH",
        "colab_type": "code",
        "outputId": "f60a8b99-e7b5-4430-f4af-635209b08423",
        "colab": {
          "base_uri": "https://localhost:8080/",
          "height": 279
        }
      },
      "source": [
        "plt.plot(nnet.get_error_trace())\n",
        "plt.xlabel('Epochs')\n",
        "plt.ylabel('MSE');"
      ],
      "execution_count": 0,
      "outputs": [
        {
          "output_type": "display_data",
          "data": {
            "image/png": "[encoded data removed]",
            "text/plain": [
              "<Figure size 432x288 with 1 Axes>"
            ]
          },
          "metadata": {
            "tags": []
          }
        }
      ]
    },
    {
      "cell_type": "code",
      "metadata": {
        "id": "cp7RugSNuEDL",
        "colab_type": "code",
        "outputId": "3b6e3d88-6b77-4103-e01a-7ea452f12bf2",
        "colab": {
          "base_uri": "https://localhost:8080/",
          "height": 34
        }
      },
      "source": [
        "Yclasses, Y = nnet.use(Xtest)\n",
        "\n",
        "print(f'{np.sum(Ttest == Yclasses)} out of {Ttest.shape[0]} test samples correctly classified.', end='')\n",
        "print(f'  Training took {nnet.training_time:.3f} seconds.')"
      ],
      "execution_count": 0,
      "outputs": [
        {
          "output_type": "stream",
          "text": [
            "20 out of 20 test samples correctly classified.  Training took 0.363 seconds.\n"
          ],
          "name": "stdout"
        }
      ]
    },
    {
      "cell_type": "markdown",
      "metadata": {
        "id": "MaKarF-KuEDP",
        "colab_type": "text"
      },
      "source": [
        "Let's see what the output of the convolutional layer produces, and the weight matrices of each unit that produce those output images.   Here are functions, `show_layer_output` and `show_layer_weights` that will do this for us."
      ]
    },
    {
      "cell_type": "code",
      "metadata": {
        "id": "22gI2osmuEDQ",
        "colab_type": "code",
        "colab": {}
      },
      "source": [
        "import matplotlib.pyplot as plt\n",
        "\n",
        "def show_layer_output(nnet, X_sample, layer):\n",
        "    outputs = []\n",
        "    reg = nnet.nnet[layer * 2].register_forward_hook(\n",
        "        lambda self, i, o: outputs.append(o))\n",
        "    nnet.use(X_sample)\n",
        "    reg.remove()\n",
        "    output = outputs[0]\n",
        "\n",
        "    n_units = output.shape[1]\n",
        "    nplots = int(np.sqrt(n_units)) + 1\n",
        "    for unit in range(n_units):\n",
        "        plt.subplot(nplots, nplots, unit+1)\n",
        "        plt.imshow(output[0, unit, :, :].detach().cpu(),cmap='binary')\n",
        "        plt.axis('off')\n",
        "    return output\n",
        "\n",
        "def show_layer_weights(nnet, layer):\n",
        "    W = nnet.nnet[layer*2].weight.detach()\n",
        "    n_units = W.shape[0]\n",
        "    nplots = int(np.sqrt(n_units)) + 1\n",
        "    for unit in range(n_units):\n",
        "        plt.subplot(nplots, nplots, unit + 1)\n",
        "        plt.imshow(W[unit, 0, :, :].detach().cpu(), cmap='binary')\n",
        "        plt.axis('off')\n",
        "    return W"
      ],
      "execution_count": 0,
      "outputs": []
    },
    {
      "cell_type": "code",
      "metadata": {
        "id": "qXOwbLkjuEDW",
        "colab_type": "code",
        "outputId": "3a9eae7d-06a2-43c5-83b3-26a8da3177e5",
        "colab": {
          "base_uri": "https://localhost:8080/",
          "height": 265
        }
      },
      "source": [
        "X_sample = Xtest[0:1, :, :, :]\n",
        "plt.imshow(X_sample[0, 0, :, :], cmap='binary')\n",
        "plt.axis('off')"
      ],
      "execution_count": 0,
      "outputs": [
        {
          "output_type": "execute_result",
          "data": {
            "text/plain": [
              "(-0.5, 19.5, 19.5, -0.5)"
            ]
          },
          "metadata": {
            "tags": []
          },
          "execution_count": 36
        },
        {
          "output_type": "display_data",
          "data": {
            "image/png": "[encoded data removed]",
            "text/plain": [
              "<Figure size 432x288 with 1 Axes>"
            ]
          },
          "metadata": {
            "tags": []
          }
        }
      ]
    },
    {
      "cell_type": "code",
      "metadata": {
        "id": "fUDhaww1uEDa",
        "colab_type": "code",
        "outputId": "d8cfef73-befe-4112-c790-8ec298927596",
        "colab": {
          "base_uri": "https://localhost:8080/",
          "height": 172
        }
      },
      "source": [
        "show_layer_output(nnet, X_sample, 0);"
      ],
      "execution_count": 0,
      "outputs": [
        {
          "output_type": "display_data",
          "data": {
            "image/png": "[encoded data removed]",
            "text/plain": [
              "<Figure size 432x288 with 5 Axes>"
            ]
          },
          "metadata": {
            "tags": []
          }
        }
      ]
    },
    {
      "cell_type": "code",
      "metadata": {
        "id": "mHTqail7uEDe",
        "colab_type": "code",
        "outputId": "2866f4d6-f65e-487a-ddab-ff7686056638",
        "colab": {
          "base_uri": "https://localhost:8080/",
          "height": 172
        }
      },
      "source": [
        "show_layer_weights(nnet, 0);"
      ],
      "execution_count": 0,
      "outputs": [
        {
          "output_type": "display_data",
          "data": {
            "image/png": "[encoded data removed]",
            "text/plain": [
              "<Figure size 432x288 with 5 Axes>"
            ]
          },
          "metadata": {
            "tags": []
          }
        }
      ]
    },
    {
      "cell_type": "markdown",
      "metadata": {
        "id": "GYxteEkcuEDi",
        "colab_type": "text"
      },
      "source": [
        "## MNIST Digits\n",
        "\n",
        "Investigate the application of your code to the classification of MNIST digits, which you may download from [this site](http://deeplearning.net/tutorial/gettingstarted.html)."
      ]
    },
    {
      "cell_type": "code",
      "metadata": {
        "id": "JelFnZFvuEDj",
        "colab_type": "code",
        "colab": {}
      },
      "source": [
        "import numpy as np\n",
        "import matplotlib.pyplot as plt\n",
        "import pickle, gzip\n",
        "\n",
        "# Load the dataset\n",
        "with gzip.open('mnist.pkl.gz', 'rb') as f:\n",
        "    train_set, valid_set, test_set = pickle.load(f, encoding='latin1')"
      ],
      "execution_count": 0,
      "outputs": []
    },
    {
      "cell_type": "code",
      "metadata": {
        "id": "xG6qO0l9uEDn",
        "colab_type": "code",
        "outputId": "ceee96fc-4fb8-406b-9fb3-f3db27b57503",
        "colab": {
          "base_uri": "https://localhost:8080/",
          "height": 34
        }
      },
      "source": [
        "Xtrain = train_set[0]\n",
        "Ttrain = train_set[1]\n",
        "Xtrain.shape, Ttrain.shape"
      ],
      "execution_count": 0,
      "outputs": [
        {
          "output_type": "execute_result",
          "data": {
            "text/plain": [
              "((50000, 784), (50000,))"
            ]
          },
          "metadata": {
            "tags": []
          },
          "execution_count": 40
        }
      ]
    },
    {
      "cell_type": "code",
      "metadata": {
        "id": "xvlBKvpmJyjU",
        "colab_type": "code",
        "outputId": "e33ff6ec-c7dd-4b6a-db60-154dbfe7485c",
        "colab": {
          "base_uri": "https://localhost:8080/",
          "height": 34
        }
      },
      "source": [
        "Xtest = test_set[0]\n",
        "Ttest = test_set[1]\n",
        "Xtest.shape, Ttest.shape\n"
      ],
      "execution_count": 0,
      "outputs": [
        {
          "output_type": "execute_result",
          "data": {
            "text/plain": [
              "((10000, 784), (10000,))"
            ]
          },
          "metadata": {
            "tags": []
          },
          "execution_count": 41
        }
      ]
    },
    {
      "cell_type": "code",
      "metadata": {
        "id": "Wgs8GXem_P_i",
        "colab_type": "code",
        "outputId": "2afb487b-ac0b-491e-92fa-d47ced59f115",
        "colab": {
          "base_uri": "https://localhost:8080/",
          "height": 34
        }
      },
      "source": [
        "XV=valid_set[0]\n",
        "TV=valid_set[1]\n",
        "XV.shape,TV.shape"
      ],
      "execution_count": 0,
      "outputs": [
        {
          "output_type": "execute_result",
          "data": {
            "text/plain": [
              "((10000, 784), (10000,))"
            ]
          },
          "metadata": {
            "tags": []
          },
          "execution_count": 52
        }
      ]
    },
    {
      "cell_type": "code",
      "metadata": {
        "id": "d1nnnyf_MwGt",
        "colab_type": "code",
        "colab": {}
      },
      "source": [
        "def make_images1(nEach,Xtrain):\n",
        "    images = np.zeros((nEach * 2, 1, 28, 28))  # nSamples, nChannels, rows, columns\n",
        "    for i in range(nEach*2-1):\n",
        "      #print(i)\n",
        "      #print(Xtrain[i,:].shape)\n",
        "      a = Xtrain[i, :].reshape(28, 28)\n",
        "      #a.shape\n",
        "      images[i,0,0:28,0:28]=a[0:28,0:28]\n",
        "    return images\n",
        "    \"\"\"\"\"for i in range(nEach * 2):\n",
        "        r = radii[i, 0]\n",
        "        centers[i, :] = r + 1 + np.random.randint(18 - 2 * r, size=(1, 2))\n",
        "        x = int(centers[i, 0])\n",
        "        y = int(centers[i, 1])\n",
        "        if i < nEach:\n",
        "            # squares\n",
        "            images[i, 0, x - r:x + r, y + r] = 1.0\n",
        "            images[i, 0, x - r:x + r, y - r] = 1.0\n",
        "            images[i, 0, x - r, y - r:y + r] = 1.0\n",
        "            images[i, 0, x + r, y - r:y + r + 1] = 1.0\n",
        "        else:\n",
        "            # diamonds\n",
        "            images[i, 0, range(x - r, x), range(y, y + r)] = 1.0\n",
        "            images[i, 0, range(x - r, x), range(y, y - r, -1)] = 1.0\n",
        "            images[i, 0, range(x, x + r + 1), range(y + r, y - 1, -1)] = 1.0\n",
        "            images[i, 0, range(x, x + r), range(y - r, y)] = 1.0\n",
        "            # images += np.random.randn(*images.shape) * 0.5\n",
        "            T = np.ones((nEach * 2, 1))\n",
        "            T[nEach:] = 2\n",
        "    return images.astype(np.float32), T.astype(np.int)\n",
        "\n",
        "Xtrain, Ttrain = make_images(500)\n",
        "Xtest, Ttest = make_images(10)\n",
        "\n",
        "Xtrain.shape, Ttrain.shape, Xtest.shape, Ttest.shape\"\"\""
      ],
      "execution_count": 0,
      "outputs": []
    },
    {
      "cell_type": "code",
      "metadata": {
        "id": "QzIB7DLdKP97",
        "colab_type": "code",
        "colab": {}
      },
      "source": [
        "P=np.unique(Ttrain)"
      ],
      "execution_count": 0,
      "outputs": []
    },
    {
      "cell_type": "code",
      "metadata": {
        "id": "5lqt7tGEuEDq",
        "colab_type": "code",
        "outputId": "8787756a-e314-4b12-cd0a-bb775839a0f3",
        "colab": {
          "base_uri": "https://localhost:8080/",
          "height": 34
        }
      },
      "source": [
        "a = Xtrain[0, :].reshape(28, 28)\n",
        "a.shape"
      ],
      "execution_count": 0,
      "outputs": [
        {
          "output_type": "execute_result",
          "data": {
            "text/plain": [
              "(28, 28)"
            ]
          },
          "metadata": {
            "tags": []
          },
          "execution_count": 44
        }
      ]
    },
    {
      "cell_type": "code",
      "metadata": {
        "scrolled": true,
        "id": "Qvb0gd9buEDu",
        "colab_type": "code",
        "outputId": "9ef2a344-51ac-497a-d9e3-5d7042e011fa",
        "colab": {
          "base_uri": "https://localhost:8080/",
          "height": 264
        }
      },
      "source": [
        "for i in range(4):\n",
        "    plt.subplot(2, 2, i + 1)\n",
        "    plt.imshow(Xtrain[i, :].reshape(28,28), cmap='binary')\n",
        "    plt.title(Ttrain[i])\n",
        "    plt.axis('off');"
      ],
      "execution_count": 0,
      "outputs": [
        {
          "output_type": "display_data",
          "data": {
            "image/png": "[encoded data removed]",
            "text/plain": [
              "<Figure size 432x288 with 4 Axes>"
            ]
          },
          "metadata": {
            "tags": []
          }
        }
      ]
    },
    {
      "cell_type": "markdown",
      "metadata": {
        "id": "QqzEr8ScuEDy",
        "colab_type": "text"
      },
      "source": [
        "**Case 1**-Now we will first test the model with 5 units in  1 convolutional layer  with a kernel size of 3*3  and a stride of 2 "
      ]
    },
    {
      "cell_type": "code",
      "metadata": {
        "id": "V6vrXVNuJNXs",
        "colab_type": "code",
        "outputId": "0639b38a-df75-46a5-e508-7cce4bdc1413",
        "colab": {
          "base_uri": "https://localhost:8080/",
          "height": 121
        }
      },
      "source": [
        "nnet = NeuralNetwork_Convolutional(n_channels_in_image=1,\n",
        "                                   image_size=28,\n",
        "                                   n_units_in_conv_layers=[5],\n",
        "                                   kernels_size_and_stride=[[3,2]],# , 5],\n",
        "                                   n_units_in_fc_hidden_layers=[2], # 10, 10],\n",
        "                                   classes=P,\n",
        "                                   use_gpu=True)\n",
        "\n",
        "Xtrain1=make_images1(25000,Xtrain)\n",
        "\n",
        "Xtrain1=torch.tensor(Xtrain1).to('cuda')\n",
        "Xtrain1=Xtrain1.float()\n",
        "nnet.train(Xtrain1, Ttrain, 200, learning_rate=0.01)"
      ],
      "execution_count": 0,
      "outputs": [
        {
          "output_type": "stream",
          "text": [
            "/usr/local/lib/python3.6/dist-packages/ipykernel_launcher.py:137: UserWarning: To copy construct from a tensor, it is recommended to use sourceTensor.clone().detach() or sourceTensor.clone().detach().requires_grad_(True), rather than torch.tensor(sourceTensor).\n"
          ],
          "name": "stderr"
        },
        {
          "output_type": "stream",
          "text": [
            "Epoch 0 error 2.414691925048828\n",
            "Epoch 50 error 1.5708140134811401\n",
            "Epoch 100 error 1.361205816268921\n",
            "Epoch 150 error 1.241809368133545\n"
          ],
          "name": "stdout"
        }
      ]
    },
    {
      "cell_type": "code",
      "metadata": {
        "id": "pYCXkANuJvws",
        "colab_type": "code",
        "outputId": "cc8ec67f-84b5-4ca9-81d6-df0db9aaf4e0",
        "colab": {
          "base_uri": "https://localhost:8080/",
          "height": 104
        }
      },
      "source": [
        "Xtest1=make_images1(5000,Xtest)\n",
        "\n",
        "Xtest1=torch.tensor(Xtest1).to('cuda')\n",
        "Xtest1=Xtest1.float()\n",
        "Yclasses, Y = nnet.use(Xtest1)\n",
        "Ttest=np.array(Ttest).reshape(10000,1)\n",
        "print(f'{np.sum(Ttest == Yclasses)} out of {Ttest.shape[0]} test samples correctly classified.')\n",
        "a=np.sum(Ttest == Yclasses)/Ttest.shape[0]\n",
        "print(f'Accuracy is  {a}')\n",
        "print(f'  Training took {nnet.training_time:.3f} seconds.')"
      ],
      "execution_count": 0,
      "outputs": [
        {
          "output_type": "stream",
          "text": [
            "4611 out of 10000 test samples correctly classified.\n",
            "Accuracy is  0.4611\n",
            "  Training took 22.364 seconds.\n"
          ],
          "name": "stdout"
        },
        {
          "output_type": "stream",
          "text": [
            "/usr/local/lib/python3.6/dist-packages/ipykernel_launcher.py:178: UserWarning: To copy construct from a tensor, it is recommended to use sourceTensor.clone().detach() or sourceTensor.clone().detach().requires_grad_(True), rather than torch.tensor(sourceTensor).\n"
          ],
          "name": "stderr"
        }
      ]
    },
    {
      "cell_type": "code",
      "metadata": {
        "id": "kpFKKDwiBPHA",
        "colab_type": "code",
        "colab": {}
      },
      "source": [
        "XV=make_images1(5000,XV)\n",
        "\n",
        "XV=torch.tensor(XV).to('cuda')\n",
        "XV=XV.float()"
      ],
      "execution_count": 0,
      "outputs": []
    },
    {
      "cell_type": "markdown",
      "metadata": {
        "id": "RZXxRdt849nQ",
        "colab_type": "text"
      },
      "source": [
        "So accuracy is quite bad i.e. 46.11% ."
      ]
    },
    {
      "cell_type": "markdown",
      "metadata": {
        "id": "t5epzgRL5TtX",
        "colab_type": "text"
      },
      "source": [
        "**Case 2**\n",
        "\n",
        "Now finding the number of  layers for which the accuracy will improve . I have done a for loop for the values of the number  of the layers with only one unit in each layer. We will take the number of layers for which the accuracy will be highest or for which the increase in accuracy is not as much with respect to training time. The kernel size is taken to be 1*1 with a stride of 1.The number of epochs is taken to be 100"
      ]
    },
    {
      "cell_type": "code",
      "metadata": {
        "id": "mMnYgEHeHZR2",
        "colab_type": "code",
        "outputId": "c836a08f-b48b-4903-911d-3934e4cc11da",
        "colab": {
          "base_uri": "https://localhost:8080/",
          "height": 34
        }
      },
      "source": [
        "[[2,1] for i in range(3)]"
      ],
      "execution_count": 0,
      "outputs": [
        {
          "output_type": "execute_result",
          "data": {
            "text/plain": [
              "[[2, 1], [2, 1], [2, 1]]"
            ]
          },
          "metadata": {
            "tags": []
          },
          "execution_count": 64
        }
      ]
    },
    {
      "cell_type": "code",
      "metadata": {
        "id": "Fk1KP3KKsIaW",
        "colab_type": "code",
        "outputId": "03aea5cf-951a-432b-a24b-531593ee76b7",
        "colab": {
          "base_uri": "https://localhost:8080/",
          "height": 1000
        }
      },
      "source": [
        "li=[]\n",
        "\n",
        "for i in range(1,11):\n",
        "  li.append(2)\n",
        "  kernel=[[2,1]for j in range(i)]\n",
        "  print(li)\n",
        "  print(kernel)\n",
        "  nnet = NeuralNetwork_Convolutional(n_channels_in_image=1,\n",
        "                                   image_size=28,\n",
        "                                   n_units_in_conv_layers=li,\n",
        "                                   kernels_size_and_stride=kernel,# , 5],\n",
        "                                   n_units_in_fc_hidden_layers=[3], # 10, 10],\n",
        "                                   classes=P,\n",
        "                                   use_gpu=True)\n",
        "\n",
        "  Xtrain1=make_images1(25000,Xtrain)\n",
        "\n",
        "  Xtrain1=torch.tensor(Xtrain1).to('cuda')\n",
        "  Xtrain1=Xtrain1.float()\n",
        "  nnet.train(Xtrain1, Ttrain, 100, learning_rate=0.01)\n",
        "  Xtest1=make_images1(5000,Xtest)\n",
        "\n",
        "  Xtest1=torch.tensor(Xtest1).to('cuda')\n",
        "  Xtest1=Xtest1.float()\n",
        "  Yclasses, Y = nnet.use(Xtest1)\n",
        "  Ttest=np.array(Ttest).reshape(10000,1)\n",
        "  print()\n",
        "  print()\n",
        "  print(f'So for {i} conv layers results are')\n",
        "  print(f'{np.sum(Ttest == Yclasses)} out of {Ttest.shape[0]} test samples correctly classified.')\n",
        "  a=np.sum(Ttest == Yclasses)/Ttest.shape[0]*100\n",
        "  print(f'Accuracy of test data   is  {a}%')\n",
        "  \n",
        "  \n",
        "  Yclasses1, Y1 = nnet.use(Xtrain1)\n",
        "  Ttrain=np.array(Ttrain).reshape(50000,1)\n",
        "  print(f'{np.sum(Ttrain == Yclasses1)} out of {Ttrain.shape[0]} test samples correctly classified.')\n",
        "  a1=np.sum(Ttrain == Yclasses1)/Ttrain.shape[0]*100\n",
        "  print(f'Accuracy of train data   is  {a1}%')\n",
        "  \n",
        "  Yclasses2, Y2 = nnet.use(XV)\n",
        "  TV=np.array(TV).reshape(10000,1)\n",
        "  print(f'{np.sum(TV == Yclasses2)} out of {TV.shape[0]} test samples correctly classified.')\n",
        "  a2=np.sum(TV == Yclasses2)/TV.shape[0]*100\n",
        "  print(f'Accuracy of validation data   is  {a2}%')\n",
        "  print(f'Training  took {nnet.training_time:.3f} seconds.')\n",
        "  print()\n",
        "  print()\n",
        "  "
      ],
      "execution_count": 0,
      "outputs": [
        {
          "output_type": "stream",
          "text": [
            "[2]\n",
            "[[2, 1]]\n"
          ],
          "name": "stdout"
        },
        {
          "output_type": "stream",
          "text": [
            "/usr/local/lib/python3.6/dist-packages/ipykernel_launcher.py:137: UserWarning: To copy construct from a tensor, it is recommended to use sourceTensor.clone().detach() or sourceTensor.clone().detach().requires_grad_(True), rather than torch.tensor(sourceTensor).\n"
          ],
          "name": "stderr"
        },
        {
          "output_type": "stream",
          "text": [
            "Epoch 0 error 2.3496551513671875\n",
            "Epoch 50 error 1.3466198444366455\n"
          ],
          "name": "stdout"
        },
        {
          "output_type": "stream",
          "text": [
            "/usr/local/lib/python3.6/dist-packages/ipykernel_launcher.py:178: UserWarning: To copy construct from a tensor, it is recommended to use sourceTensor.clone().detach() or sourceTensor.clone().detach().requires_grad_(True), rather than torch.tensor(sourceTensor).\n"
          ],
          "name": "stderr"
        },
        {
          "output_type": "stream",
          "text": [
            "\n",
            "\n",
            "So for 1 conv layers results are\n",
            "6503 out of 10000 test samples correctly classified.\n",
            "Accuracy of test data   is  65.03%\n",
            "32921 out of 50000 test samples correctly classified.\n",
            "Accuracy of train data   is  65.842%\n",
            "6662 out of 10000 test samples correctly classified.\n",
            "Accuracy of validation data   is  66.62%\n",
            "Training  took 29.225 seconds.\n",
            "\n",
            "\n",
            "[2, 2]\n",
            "[[2, 1], [2, 1]]\n",
            "Epoch 0 error 2.3442916870117188\n",
            "Epoch 50 error 1.3107362985610962\n",
            "\n",
            "\n",
            "So for 2 conv layers results are\n",
            "5945 out of 10000 test samples correctly classified.\n",
            "Accuracy of test data   is  59.45%\n",
            "29772 out of 50000 test samples correctly classified.\n",
            "Accuracy of train data   is  59.544%\n",
            "5946 out of 10000 test samples correctly classified.\n",
            "Accuracy of validation data   is  59.46%\n",
            "Training  took 62.357 seconds.\n",
            "\n",
            "\n",
            "[2, 2, 2]\n",
            "[[2, 1], [2, 1], [2, 1]]\n",
            "Epoch 0 error 2.3383781909942627\n",
            "Epoch 50 error 1.342264175415039\n",
            "\n",
            "\n",
            "So for 3 conv layers results are\n",
            "6263 out of 10000 test samples correctly classified.\n",
            "Accuracy of test data   is  62.629999999999995%\n",
            "31455 out of 50000 test samples correctly classified.\n",
            "Accuracy of train data   is  62.91%\n",
            "6277 out of 10000 test samples correctly classified.\n",
            "Accuracy of validation data   is  62.77%\n",
            "Training  took 92.320 seconds.\n",
            "\n",
            "\n",
            "[2, 2, 2, 2]\n",
            "[[2, 1], [2, 1], [2, 1], [2, 1]]\n",
            "Epoch 0 error 2.336409091949463\n",
            "Epoch 50 error 1.3208379745483398\n",
            "\n",
            "\n",
            "So for 4 conv layers results are\n",
            "6571 out of 10000 test samples correctly classified.\n",
            "Accuracy of test data   is  65.71000000000001%\n",
            "32986 out of 50000 test samples correctly classified.\n",
            "Accuracy of train data   is  65.972%\n",
            "6659 out of 10000 test samples correctly classified.\n",
            "Accuracy of validation data   is  66.59%\n",
            "Training  took 119.506 seconds.\n",
            "\n",
            "\n",
            "[2, 2, 2, 2, 2]\n",
            "[[2, 1], [2, 1], [2, 1], [2, 1], [2, 1]]\n",
            "Epoch 0 error 2.3366305828094482\n",
            "Epoch 50 error 1.504815936088562\n",
            "\n",
            "\n",
            "So for 5 conv layers results are\n",
            "5668 out of 10000 test samples correctly classified.\n",
            "Accuracy of test data   is  56.68%\n",
            "28216 out of 50000 test samples correctly classified.\n",
            "Accuracy of train data   is  56.432%\n",
            "5767 out of 10000 test samples correctly classified.\n",
            "Accuracy of validation data   is  57.67%\n",
            "Training  took 148.351 seconds.\n",
            "\n",
            "\n",
            "[2, 2, 2, 2, 2, 2]\n",
            "[[2, 1], [2, 1], [2, 1], [2, 1], [2, 1], [2, 1]]\n",
            "Epoch 0 error 2.3537635803222656\n",
            "Epoch 50 error 1.5157924890518188\n",
            "\n",
            "\n",
            "So for 6 conv layers results are\n",
            "6558 out of 10000 test samples correctly classified.\n",
            "Accuracy of test data   is  65.58%\n",
            "32353 out of 50000 test samples correctly classified.\n",
            "Accuracy of train data   is  64.706%\n",
            "6669 out of 10000 test samples correctly classified.\n",
            "Accuracy of validation data   is  66.69%\n",
            "Training  took 171.409 seconds.\n",
            "\n",
            "\n",
            "[2, 2, 2, 2, 2, 2, 2]\n",
            "[[2, 1], [2, 1], [2, 1], [2, 1], [2, 1], [2, 1], [2, 1]]\n",
            "Epoch 0 error 2.3429455757141113\n",
            "Epoch 50 error 1.6062872409820557\n",
            "\n",
            "\n",
            "So for 7 conv layers results are\n",
            "6069 out of 10000 test samples correctly classified.\n",
            "Accuracy of test data   is  60.69%\n",
            "30090 out of 50000 test samples correctly classified.\n",
            "Accuracy of train data   is  60.18%\n",
            "6162 out of 10000 test samples correctly classified.\n",
            "Accuracy of validation data   is  61.62%\n",
            "Training  took 195.526 seconds.\n",
            "\n",
            "\n",
            "[2, 2, 2, 2, 2, 2, 2, 2]\n",
            "[[2, 1], [2, 1], [2, 1], [2, 1], [2, 1], [2, 1], [2, 1], [2, 1]]\n",
            "Epoch 0 error 2.347989559173584\n",
            "Epoch 50 error 1.4982020854949951\n",
            "\n",
            "\n",
            "So for 8 conv layers results are\n",
            "5721 out of 10000 test samples correctly classified.\n",
            "Accuracy of test data   is  57.21000000000001%\n",
            "27938 out of 50000 test samples correctly classified.\n",
            "Accuracy of train data   is  55.876000000000005%\n",
            "5602 out of 10000 test samples correctly classified.\n",
            "Accuracy of validation data   is  56.02%\n",
            "Training  took 217.439 seconds.\n",
            "\n",
            "\n",
            "[2, 2, 2, 2, 2, 2, 2, 2, 2]\n",
            "[[2, 1], [2, 1], [2, 1], [2, 1], [2, 1], [2, 1], [2, 1], [2, 1], [2, 1]]\n",
            "Epoch 0 error 2.3755156993865967\n",
            "Epoch 50 error 1.603405475616455\n",
            "\n",
            "\n",
            "So for 9 conv layers results are\n",
            "5294 out of 10000 test samples correctly classified.\n",
            "Accuracy of test data   is  52.94%\n",
            "26345 out of 50000 test samples correctly classified.\n",
            "Accuracy of train data   is  52.690000000000005%\n",
            "5309 out of 10000 test samples correctly classified.\n",
            "Accuracy of validation data   is  53.09%\n",
            "Training  took 236.668 seconds.\n",
            "\n",
            "\n",
            "[2, 2, 2, 2, 2, 2, 2, 2, 2, 2]\n",
            "[[2, 1], [2, 1], [2, 1], [2, 1], [2, 1], [2, 1], [2, 1], [2, 1], [2, 1], [2, 1]]\n",
            "Epoch 0 error 2.325244903564453\n",
            "Epoch 50 error 1.9847204685211182\n",
            "\n",
            "\n",
            "So for 10 conv layers results are\n",
            "6080 out of 10000 test samples correctly classified.\n",
            "Accuracy of test data   is  60.8%\n",
            "30078 out of 50000 test samples correctly classified.\n",
            "Accuracy of train data   is  60.156%\n",
            "6029 out of 10000 test samples correctly classified.\n",
            "Accuracy of validation data   is  60.29%\n",
            "Training  took 253.475 seconds.\n",
            "\n",
            "\n"
          ],
          "name": "stdout"
        }
      ]
    },
    {
      "cell_type": "markdown",
      "metadata": {
        "id": "iHKJPM4VEEtk",
        "colab_type": "text"
      },
      "source": [
        "**Case 3**\n",
        "\n",
        "\n",
        "So we see that the network works well for 1 and 2 convolutional layers as the traning is less and the accuracy is also good. Moreover the increase in number of layers may increase the accuracy but the training is also increased significantly so it is not efficient  to use mre than 2 layers. Now we will vary the units in each conv layer. So we will now test the number of units in 1 and 2 convolutional layers\n"
      ]
    },
    {
      "cell_type": "markdown",
      "metadata": {
        "id": "-CUKfoQ-LSys",
        "colab_type": "text"
      },
      "source": [
        "First testing with 1 convolutional layer"
      ]
    },
    {
      "cell_type": "markdown",
      "metadata": {
        "id": "RRmAur73MKKO",
        "colab_type": "text"
      },
      "source": [
        "So now testing with number of units in 1 convolutional layer."
      ]
    },
    {
      "cell_type": "code",
      "metadata": {
        "id": "5EscVpxdEP5E",
        "colab_type": "code",
        "outputId": "121aa175-f244-454b-ea42-b209d18215cd",
        "colab": {
          "base_uri": "https://localhost:8080/",
          "height": 1000
        }
      },
      "source": [
        "for i in range(2,12):\n",
        "  li=[]\n",
        "\n",
        "  for j in range(1):\n",
        "    li.append(i)\n",
        "  print(li)\n",
        "  kernel=[[2,1]for j in range(1)]\n",
        "  print(kernel)\n",
        "  nnet = NeuralNetwork_Convolutional(n_channels_in_image=1,\n",
        "                                   image_size=28,\n",
        "                                   n_units_in_conv_layers=li,\n",
        "                                   kernels_size_and_stride=kernel,# , 5],\n",
        "                                   n_units_in_fc_hidden_layers=[3], # 10, 10],\n",
        "                                   classes=P,\n",
        "                                   use_gpu=True)\n",
        "\n",
        "  Xtrain1=make_images1(25000,Xtrain)\n",
        "\n",
        "  Xtrain1=torch.tensor(Xtrain1).to('cuda')\n",
        "  Xtrain1=Xtrain1.float()\n",
        "  nnet.train(Xtrain1, Ttrain, 100, learning_rate=0.01)\n",
        "  Xtest1=make_images1(5000,Xtest)\n",
        "\n",
        "  Xtest1=torch.tensor(Xtest1).to('cuda')\n",
        "  Xtest1=Xtest1.float()\n",
        "  Yclasses, Y = nnet.use(Xtest1)\n",
        "  Ttest=np.array(Ttest).reshape(10000,1)\n",
        "  print()\n",
        "  print()\n",
        "  print(f'So for {i} units in 1  conv layers results are')\n",
        "  print(f'{np.sum(Ttest == Yclasses)} out of {Ttest.shape[0]} test samples correctly classified.')\n",
        "  a=np.sum(Ttest == Yclasses)/Ttest.shape[0]*100\n",
        "  print(f'Accuracy of test data   is  {a}%')\n",
        "  \n",
        "  \n",
        "  Yclasses1, Y1 = nnet.use(Xtrain1)\n",
        "  Ttrain=np.array(Ttrain).reshape(50000,1)\n",
        "  print(f'{np.sum(Ttrain == Yclasses1)} out of {Ttrain.shape[0]} test samples correctly classified.')\n",
        "  a1=np.sum(Ttrain == Yclasses1)/Ttrain.shape[0]*100\n",
        "  print(f'Accuracy of train data   is  {a1}%')\n",
        "  \n",
        "  Yclasses2, Y2 = nnet.use(XV)\n",
        "  TV=np.array(TV).reshape(10000,1)\n",
        "  print(f'{np.sum(TV == Yclasses2)} out of {TV.shape[0]} test samples correctly classified.')\n",
        "  a2=np.sum(TV == Yclasses2)/TV.shape[0]*100\n",
        "  print(f'Accuracy of validation data   is  {a2}%')\n",
        "  print(f'Training  took {nnet.training_time:.3f} seconds.')\n",
        "  print()\n",
        "  print()\n",
        "  "
      ],
      "execution_count": 0,
      "outputs": [
        {
          "output_type": "stream",
          "text": [
            "[2]\n",
            "[[2, 1]]\n"
          ],
          "name": "stdout"
        },
        {
          "output_type": "stream",
          "text": [
            "/usr/local/lib/python3.6/dist-packages/ipykernel_launcher.py:137: UserWarning: To copy construct from a tensor, it is recommended to use sourceTensor.clone().detach() or sourceTensor.clone().detach().requires_grad_(True), rather than torch.tensor(sourceTensor).\n"
          ],
          "name": "stderr"
        },
        {
          "output_type": "stream",
          "text": [
            "Epoch 0 error 2.40366268157959\n",
            "Epoch 50 error 1.5331673622131348\n"
          ],
          "name": "stdout"
        },
        {
          "output_type": "stream",
          "text": [
            "/usr/local/lib/python3.6/dist-packages/ipykernel_launcher.py:178: UserWarning: To copy construct from a tensor, it is recommended to use sourceTensor.clone().detach() or sourceTensor.clone().detach().requires_grad_(True), rather than torch.tensor(sourceTensor).\n"
          ],
          "name": "stderr"
        },
        {
          "output_type": "stream",
          "text": [
            "\n",
            "\n",
            "So for 2 units in 1  conv layers results are\n",
            "6499 out of 10000 test samples correctly classified.\n",
            "Accuracy of test data   is  64.99000000000001%\n",
            "32392 out of 50000 test samples correctly classified.\n",
            "Accuracy of train data   is  64.78399999999999%\n",
            "6482 out of 10000 test samples correctly classified.\n",
            "Accuracy of validation data   is  64.82%\n",
            "Training  took 29.297 seconds.\n",
            "\n",
            "\n",
            "[3]\n",
            "[[2, 1]]\n",
            "Epoch 0 error 2.363572359085083\n",
            "Epoch 50 error 2.3012917041778564\n",
            "\n",
            "\n",
            "So for 3 units in 1  conv layers results are\n",
            "1135 out of 10000 test samples correctly classified.\n",
            "Accuracy of test data   is  11.35%\n",
            "5678 out of 50000 test samples correctly classified.\n",
            "Accuracy of train data   is  11.356%\n",
            "1064 out of 10000 test samples correctly classified.\n",
            "Accuracy of validation data   is  10.639999999999999%\n",
            "Training  took 30.626 seconds.\n",
            "\n",
            "\n",
            "[4]\n",
            "[[2, 1]]\n",
            "Epoch 0 error 2.3620519638061523\n",
            "Epoch 50 error 1.5199567079544067\n",
            "\n",
            "\n",
            "So for 4 units in 1  conv layers results are\n",
            "6218 out of 10000 test samples correctly classified.\n",
            "Accuracy of test data   is  62.18%\n",
            "31260 out of 50000 test samples correctly classified.\n",
            "Accuracy of train data   is  62.519999999999996%\n",
            "6261 out of 10000 test samples correctly classified.\n",
            "Accuracy of validation data   is  62.61%\n",
            "Training  took 32.705 seconds.\n",
            "\n",
            "\n",
            "[5]\n",
            "[[2, 1]]\n",
            "Epoch 0 error 2.321394443511963\n",
            "Epoch 50 error 1.5591027736663818\n",
            "\n",
            "\n",
            "So for 5 units in 1  conv layers results are\n",
            "5355 out of 10000 test samples correctly classified.\n",
            "Accuracy of test data   is  53.55%\n",
            "26849 out of 50000 test samples correctly classified.\n",
            "Accuracy of train data   is  53.698%\n",
            "5445 out of 10000 test samples correctly classified.\n",
            "Accuracy of validation data   is  54.449999999999996%\n",
            "Training  took 34.242 seconds.\n",
            "\n",
            "\n",
            "[6]\n",
            "[[2, 1]]\n",
            "Epoch 0 error 2.372035264968872\n",
            "Epoch 50 error 1.5132392644882202\n",
            "\n",
            "\n",
            "So for 6 units in 1  conv layers results are\n",
            "6585 out of 10000 test samples correctly classified.\n",
            "Accuracy of test data   is  65.85%\n",
            "33106 out of 50000 test samples correctly classified.\n",
            "Accuracy of train data   is  66.212%\n",
            "6628 out of 10000 test samples correctly classified.\n",
            "Accuracy of validation data   is  66.28%\n",
            "Training  took 35.992 seconds.\n",
            "\n",
            "\n",
            "[7]\n",
            "[[2, 1]]\n",
            "Epoch 0 error 2.3573379516601562\n",
            "Epoch 50 error 1.8923195600509644\n",
            "\n",
            "\n",
            "So for 7 units in 1  conv layers results are\n",
            "5771 out of 10000 test samples correctly classified.\n",
            "Accuracy of test data   is  57.709999999999994%\n",
            "28631 out of 50000 test samples correctly classified.\n",
            "Accuracy of train data   is  57.262%\n",
            "5745 out of 10000 test samples correctly classified.\n",
            "Accuracy of validation data   is  57.45%\n",
            "Training  took 37.484 seconds.\n",
            "\n",
            "\n",
            "[8]\n",
            "[[2, 1]]\n",
            "Epoch 0 error 2.3757901191711426\n",
            "Epoch 50 error 1.5590932369232178\n",
            "\n",
            "\n",
            "So for 8 units in 1  conv layers results are\n",
            "5740 out of 10000 test samples correctly classified.\n",
            "Accuracy of test data   is  57.4%\n",
            "28579 out of 50000 test samples correctly classified.\n",
            "Accuracy of train data   is  57.158%\n",
            "5808 out of 10000 test samples correctly classified.\n",
            "Accuracy of validation data   is  58.08%\n",
            "Training  took 39.331 seconds.\n",
            "\n",
            "\n",
            "[9]\n",
            "[[2, 1]]\n",
            "Epoch 0 error 2.382445812225342\n",
            "Epoch 50 error 1.4270762205123901\n",
            "\n",
            "\n",
            "So for 9 units in 1  conv layers results are\n",
            "5888 out of 10000 test samples correctly classified.\n",
            "Accuracy of test data   is  58.879999999999995%\n",
            "29456 out of 50000 test samples correctly classified.\n",
            "Accuracy of train data   is  58.912%\n",
            "5859 out of 10000 test samples correctly classified.\n",
            "Accuracy of validation data   is  58.589999999999996%\n",
            "Training  took 40.491 seconds.\n",
            "\n",
            "\n",
            "[10]\n",
            "[[2, 1]]\n",
            "Epoch 0 error 2.3509814739227295\n",
            "Epoch 50 error 2.3017284870147705\n",
            "\n",
            "\n",
            "So for 10 units in 1  conv layers results are\n",
            "1135 out of 10000 test samples correctly classified.\n",
            "Accuracy of test data   is  11.35%\n",
            "5678 out of 50000 test samples correctly classified.\n",
            "Accuracy of train data   is  11.356%\n",
            "1064 out of 10000 test samples correctly classified.\n",
            "Accuracy of validation data   is  10.639999999999999%\n",
            "Training  took 42.604 seconds.\n",
            "\n",
            "\n",
            "[11]\n",
            "[[2, 1]]\n",
            "Epoch 0 error 2.3936569690704346\n",
            "Epoch 50 error 1.5660511255264282\n",
            "\n",
            "\n",
            "So for 11 units in 1  conv layers results are\n",
            "6125 out of 10000 test samples correctly classified.\n",
            "Accuracy of test data   is  61.25000000000001%\n",
            "30806 out of 50000 test samples correctly classified.\n",
            "Accuracy of train data   is  61.612%\n",
            "6238 out of 10000 test samples correctly classified.\n",
            "Accuracy of validation data   is  62.38%\n",
            "Training  took 44.129 seconds.\n",
            "\n",
            "\n"
          ],
          "name": "stdout"
        }
      ]
    },
    {
      "cell_type": "markdown",
      "metadata": {
        "id": "Ktg2TzhLP06D",
        "colab_type": "text"
      },
      "source": [
        "**CASE 4**\n",
        "\n",
        "Now we simply take 2 units in 1 convolutional layer and test with number of epochs."
      ]
    },
    {
      "cell_type": "code",
      "metadata": {
        "id": "DaOy1n-1P7RI",
        "colab_type": "code",
        "outputId": "27ae8bef-afd6-4de8-dd6a-d0f671d6b832",
        "colab": {
          "base_uri": "https://localhost:8080/",
          "height": 1000
        }
      },
      "source": [
        "\n",
        "\n",
        "epoch=100\n",
        "for i in range(2,12):\n",
        "  nnet = NeuralNetwork_Convolutional(n_channels_in_image=1,\n",
        "                                   image_size=28,\n",
        "                                   n_units_in_conv_layers=[2],\n",
        "                                   kernels_size_and_stride=[[2,1]],# , 5],\n",
        "                                   n_units_in_fc_hidden_layers=[3], # 10, 10],\n",
        "                                   classes=P,\n",
        "                                   use_gpu=True)  \n",
        "\n",
        "\n",
        "  Xtrain1=make_images1(25000,Xtrain)\n",
        "\n",
        "  Xtrain1=torch.tensor(Xtrain1).to('cuda')\n",
        "  Xtrain1=Xtrain1.float()\n",
        "  nnet.train(Xtrain1, Ttrain, epoch, learning_rate=0.01)\n",
        "  Xtest1=make_images1(5000,Xtest)\n",
        "\n",
        "  Xtest1=torch.tensor(Xtest1).to('cuda')\n",
        "  Xtest1=Xtest1.float()\n",
        "  Yclasses, Y = nnet.use(Xtest1)\n",
        "  Ttest=np.array(Ttest).reshape(10000,1)\n",
        "  print()\n",
        "  print()\n",
        "  print(f'So for {epoch} epochs  results are')\n",
        "  print(f'{np.sum(Ttest == Yclasses)} out of {Ttest.shape[0]} test samples correctly classified.')\n",
        "  a=np.sum(Ttest == Yclasses)/Ttest.shape[0]*100\n",
        "  print(f'Accuracy of test data   is  {a}%')\n",
        "  \n",
        "  \n",
        "  Yclasses1, Y1 = nnet.use(Xtrain1)\n",
        "  Ttrain=np.array(Ttrain).reshape(50000,1)\n",
        "  print(f'{np.sum(Ttrain == Yclasses1)} out of {Ttrain.shape[0]} test samples correctly classified.')\n",
        "  a1=np.sum(Ttrain == Yclasses1)/Ttrain.shape[0]*100\n",
        "  print(f'Accuracy of train data   is  {a1}%')\n",
        "  \n",
        "  Yclasses2, Y2 = nnet.use(XV)\n",
        "  TV=np.array(TV).reshape(10000,1)\n",
        "  print(f'{np.sum(TV == Yclasses2)} out of {TV.shape[0]} test samples correctly classified.')\n",
        "  a2=np.sum(TV == Yclasses2)/TV.shape[0]*100\n",
        "  print(f'Accuracy of validation data   is  {a2}%')\n",
        "  print(f'Training  took {nnet.training_time:.3f} seconds.')\n",
        "  print()\n",
        "  print()\n",
        "  epoch=epoch+50"
      ],
      "execution_count": 0,
      "outputs": [
        {
          "output_type": "stream",
          "text": [
            "/usr/local/lib/python3.6/dist-packages/ipykernel_launcher.py:137: UserWarning: To copy construct from a tensor, it is recommended to use sourceTensor.clone().detach() or sourceTensor.clone().detach().requires_grad_(True), rather than torch.tensor(sourceTensor).\n"
          ],
          "name": "stderr"
        },
        {
          "output_type": "stream",
          "text": [
            "Epoch 0 error 2.3639512062072754\n",
            "Epoch 50 error 1.290328860282898\n"
          ],
          "name": "stdout"
        },
        {
          "output_type": "stream",
          "text": [
            "/usr/local/lib/python3.6/dist-packages/ipykernel_launcher.py:178: UserWarning: To copy construct from a tensor, it is recommended to use sourceTensor.clone().detach() or sourceTensor.clone().detach().requires_grad_(True), rather than torch.tensor(sourceTensor).\n"
          ],
          "name": "stderr"
        },
        {
          "output_type": "stream",
          "text": [
            "\n",
            "\n",
            "So for 100 epochs  results are\n",
            "6583 out of 10000 test samples correctly classified.\n",
            "Accuracy of test data   is  65.83%\n",
            "33328 out of 50000 test samples correctly classified.\n",
            "Accuracy of train data   is  66.656%\n",
            "6757 out of 10000 test samples correctly classified.\n",
            "Accuracy of validation data   is  67.57%\n",
            "Training  took 29.245 seconds.\n",
            "\n",
            "\n",
            "Epoch 0 error 2.315722703933716\n",
            "Epoch 50 error 1.337297797203064\n",
            "Epoch 100 error 1.0114843845367432\n",
            "\n",
            "\n",
            "So for 150 epochs  results are\n",
            "7204 out of 10000 test samples correctly classified.\n",
            "Accuracy of test data   is  72.04%\n",
            "36507 out of 50000 test samples correctly classified.\n",
            "Accuracy of train data   is  73.014%\n",
            "7203 out of 10000 test samples correctly classified.\n",
            "Accuracy of validation data   is  72.03%\n",
            "Training  took 45.698 seconds.\n",
            "\n",
            "\n",
            "Epoch 0 error 2.3925657272338867\n",
            "Epoch 50 error 2.3017258644104004\n",
            "Epoch 100 error 2.3010098934173584\n",
            "Epoch 150 error 2.301027774810791\n",
            "\n",
            "\n",
            "So for 200 epochs  results are\n",
            "1135 out of 10000 test samples correctly classified.\n",
            "Accuracy of test data   is  11.35%\n",
            "5678 out of 50000 test samples correctly classified.\n",
            "Accuracy of train data   is  11.356%\n",
            "1064 out of 10000 test samples correctly classified.\n",
            "Accuracy of validation data   is  10.639999999999999%\n",
            "Training  took 61.813 seconds.\n",
            "\n",
            "\n",
            "Epoch 0 error 2.3687281608581543\n",
            "Epoch 50 error 2.3011226654052734\n",
            "Epoch 100 error 2.301027297973633\n",
            "Epoch 150 error 2.300995349884033\n",
            "Epoch 200 error 1.7550426721572876\n",
            "\n",
            "\n",
            "So for 250 epochs  results are\n",
            "6709 out of 10000 test samples correctly classified.\n",
            "Accuracy of test data   is  67.09%\n",
            "33584 out of 50000 test samples correctly classified.\n",
            "Accuracy of train data   is  67.168%\n",
            "6790 out of 10000 test samples correctly classified.\n",
            "Accuracy of validation data   is  67.9%\n",
            "Training  took 78.348 seconds.\n",
            "\n",
            "\n",
            "Epoch 0 error 2.3784494400024414\n",
            "Epoch 50 error 1.4240299463272095\n",
            "Epoch 100 error 1.070957064628601\n",
            "Epoch 150 error 0.9362789988517761\n",
            "Epoch 200 error 0.8670647144317627\n",
            "Epoch 250 error 0.8025599122047424\n",
            "\n",
            "\n",
            "So for 300 epochs  results are\n",
            "7225 out of 10000 test samples correctly classified.\n",
            "Accuracy of test data   is  72.25%\n",
            "36692 out of 50000 test samples correctly classified.\n",
            "Accuracy of train data   is  73.384%\n",
            "7326 out of 10000 test samples correctly classified.\n",
            "Accuracy of validation data   is  73.26%\n",
            "Training  took 95.558 seconds.\n",
            "\n",
            "\n",
            "Epoch 0 error 2.3385684490203857\n",
            "Epoch 50 error 1.4059089422225952\n",
            "Epoch 100 error 1.1541305780410767\n",
            "Epoch 150 error 1.04330313205719\n",
            "Epoch 200 error 0.9309444427490234\n",
            "Epoch 250 error 0.79107266664505\n",
            "Epoch 300 error 0.7234886884689331\n",
            "\n",
            "\n",
            "So for 350 epochs  results are\n",
            "7661 out of 10000 test samples correctly classified.\n",
            "Accuracy of test data   is  76.61%\n",
            "39222 out of 50000 test samples correctly classified.\n",
            "Accuracy of train data   is  78.444%\n",
            "7740 out of 10000 test samples correctly classified.\n",
            "Accuracy of validation data   is  77.4%\n",
            "Training  took 112.137 seconds.\n",
            "\n",
            "\n",
            "Epoch 0 error 2.317625045776367\n",
            "Epoch 50 error 1.368354320526123\n",
            "Epoch 100 error 1.0989378690719604\n",
            "Epoch 150 error 0.9332922697067261\n",
            "Epoch 200 error 0.819385290145874\n",
            "Epoch 250 error 0.7281761169433594\n",
            "Epoch 300 error 0.6611006855964661\n",
            "Epoch 350 error 0.6267734169960022\n",
            "\n",
            "\n",
            "So for 400 epochs  results are\n",
            "7948 out of 10000 test samples correctly classified.\n",
            "Accuracy of test data   is  79.47999999999999%\n",
            "40608 out of 50000 test samples correctly classified.\n",
            "Accuracy of train data   is  81.216%\n",
            "7936 out of 10000 test samples correctly classified.\n",
            "Accuracy of validation data   is  79.36%\n",
            "Training  took 128.746 seconds.\n",
            "\n",
            "\n",
            "Epoch 0 error 2.3686327934265137\n",
            "Epoch 50 error 1.6846561431884766\n",
            "Epoch 100 error 1.4773342609405518\n",
            "Epoch 150 error 1.3904730081558228\n",
            "Epoch 200 error 1.2357685565948486\n",
            "Epoch 250 error 0.9625461101531982\n",
            "Epoch 300 error 0.8671468496322632\n",
            "Epoch 350 error 0.8228622674942017\n",
            "Epoch 400 error 0.782122790813446\n",
            "\n",
            "\n",
            "So for 450 epochs  results are\n",
            "7248 out of 10000 test samples correctly classified.\n",
            "Accuracy of test data   is  72.48%\n",
            "36974 out of 50000 test samples correctly classified.\n",
            "Accuracy of train data   is  73.94800000000001%\n",
            "7401 out of 10000 test samples correctly classified.\n",
            "Accuracy of validation data   is  74.00999999999999%\n",
            "Training  took 145.315 seconds.\n",
            "\n",
            "\n",
            "Epoch 0 error 2.354529619216919\n",
            "Epoch 50 error 1.3469421863555908\n",
            "Epoch 100 error 1.0470433235168457\n",
            "Epoch 150 error 0.9195306301116943\n",
            "Epoch 200 error 0.8306564688682556\n",
            "Epoch 250 error 0.7635018825531006\n",
            "Epoch 300 error 0.7222825884819031\n",
            "Epoch 350 error 0.6798458695411682\n",
            "Epoch 400 error 0.6382759213447571\n",
            "Epoch 450 error 0.6002869009971619\n",
            "\n",
            "\n",
            "So for 500 epochs  results are\n",
            "7940 out of 10000 test samples correctly classified.\n",
            "Accuracy of test data   is  79.4%\n",
            "40452 out of 50000 test samples correctly classified.\n",
            "Accuracy of train data   is  80.904%\n",
            "8014 out of 10000 test samples correctly classified.\n",
            "Accuracy of validation data   is  80.14%\n",
            "Training  took 161.717 seconds.\n",
            "\n",
            "\n",
            "Epoch 0 error 2.356757879257202\n",
            "Epoch 50 error 1.4319676160812378\n",
            "Epoch 100 error 1.1406867504119873\n",
            "Epoch 150 error 0.9925715327262878\n",
            "Epoch 200 error 0.8600598573684692\n",
            "Epoch 250 error 0.7829201817512512\n",
            "Epoch 300 error 0.7357500195503235\n",
            "Epoch 350 error 0.7320231199264526\n",
            "Epoch 400 error 0.6905463337898254\n",
            "Epoch 450 error 0.699603259563446\n",
            "Epoch 500 error 0.6442445516586304\n",
            "\n",
            "\n",
            "So for 550 epochs  results are\n",
            "8072 out of 10000 test samples correctly classified.\n",
            "Accuracy of test data   is  80.72%\n",
            "41254 out of 50000 test samples correctly classified.\n",
            "Accuracy of train data   is  82.50800000000001%\n",
            "8161 out of 10000 test samples correctly classified.\n",
            "Accuracy of validation data   is  81.61%\n",
            "Training  took 178.555 seconds.\n",
            "\n",
            "\n"
          ],
          "name": "stdout"
        }
      ]
    },
    {
      "cell_type": "markdown",
      "metadata": {
        "id": "Yf-MdogIW-TS",
        "colab_type": "text"
      },
      "source": [
        "**Case 5**\n",
        "\n",
        "\n",
        "So a network with 1 Convolutional layer with 2 units in the conv layer  and 350 epochs gives us a good result. SO now we will see what happens if we change the number of hidden units in the fully connected layer.\n",
        "\n",
        "\n"
      ]
    },
    {
      "cell_type": "code",
      "metadata": {
        "id": "U2bswtg2XS1f",
        "colab_type": "code",
        "outputId": "67e9129c-5908-42e6-df06-4a8c0ad65b80",
        "colab": {
          "base_uri": "https://localhost:8080/",
          "height": 1000
        }
      },
      "source": [
        "\n",
        "\n",
        "for i in range(3,7):\n",
        "  nnet = NeuralNetwork_Convolutional(n_channels_in_image=1,\n",
        "                                   image_size=28,\n",
        "                                   n_units_in_conv_layers=[2],\n",
        "                                   kernels_size_and_stride=[[2,1]],# , 5],\n",
        "                                   n_units_in_fc_hidden_layers=[i], # 10, 10],\n",
        "                                   classes=P,\n",
        "                                   use_gpu=True)  \n",
        "\n",
        "\n",
        "  Xtrain1=make_images1(25000,Xtrain)\n",
        "\n",
        "  Xtrain1=torch.tensor(Xtrain1).to('cuda')\n",
        "  Xtrain1=Xtrain1.float()\n",
        "  nnet.train(Xtrain1, Ttrain, 350, learning_rate=0.01)\n",
        "  Xtest1=make_images1(5000,Xtest)\n",
        "\n",
        "  Xtest1=torch.tensor(Xtest1).to('cuda')\n",
        "  Xtest1=Xtest1.float()\n",
        "  Yclasses, Y = nnet.use(Xtest1)\n",
        "  Ttest=np.array(Ttest).reshape(10000,1)\n",
        "  print()\n",
        "  print()\n",
        "  print(f'So for {i} units in fully conn layer   results are')\n",
        "  print(f'{np.sum(Ttest == Yclasses)} out of {Ttest.shape[0]} test samples correctly classified.')\n",
        "  a=np.sum(Ttest == Yclasses)/Ttest.shape[0]*100\n",
        "  print(f'Accuracy of test data   is  {a}%')\n",
        "  \n",
        "  \n",
        "  Yclasses1, Y1 = nnet.use(Xtrain1)\n",
        "  Ttrain=np.array(Ttrain).reshape(50000,1)\n",
        "  print(f'{np.sum(Ttrain == Yclasses1)} out of {Ttrain.shape[0]} test samples correctly classified.')\n",
        "  a1=np.sum(Ttrain == Yclasses1)/Ttrain.shape[0]*100\n",
        "  print(f'Accuracy of train data   is  {a1}%')\n",
        "  \n",
        "  Yclasses2, Y2 = nnet.use(XV)\n",
        "  TV=np.array(TV).reshape(10000,1)\n",
        "  print(f'{np.sum(TV == Yclasses2)} out of {TV.shape[0]} test samples correctly classified.')\n",
        "  a2=np.sum(TV == Yclasses2)/TV.shape[0]*100\n",
        "  print(f'Accuracy of validation data   is  {a2}%')\n",
        "  print(f'Training  took {nnet.training_time:.3f} seconds.')\n",
        "  print()\n",
        "  print()\n"
      ],
      "execution_count": 0,
      "outputs": [
        {
          "output_type": "stream",
          "text": [
            "/usr/local/lib/python3.6/dist-packages/ipykernel_launcher.py:137: UserWarning: To copy construct from a tensor, it is recommended to use sourceTensor.clone().detach() or sourceTensor.clone().detach().requires_grad_(True), rather than torch.tensor(sourceTensor).\n"
          ],
          "name": "stderr"
        },
        {
          "output_type": "stream",
          "text": [
            "Epoch 0 error 2.3538200855255127\n",
            "Epoch 50 error 1.3259475231170654\n",
            "Epoch 100 error 1.0811452865600586\n",
            "Epoch 150 error 0.9880410432815552\n",
            "Epoch 200 error 0.9255720973014832\n",
            "Epoch 250 error 0.8439635038375854\n",
            "Epoch 300 error 0.8152079582214355\n"
          ],
          "name": "stdout"
        },
        {
          "output_type": "stream",
          "text": [
            "/usr/local/lib/python3.6/dist-packages/ipykernel_launcher.py:178: UserWarning: To copy construct from a tensor, it is recommended to use sourceTensor.clone().detach() or sourceTensor.clone().detach().requires_grad_(True), rather than torch.tensor(sourceTensor).\n"
          ],
          "name": "stderr"
        },
        {
          "output_type": "stream",
          "text": [
            "\n",
            "\n",
            "So for 3 units in fully conn layer   results are\n",
            "7527 out of 10000 test samples correctly classified.\n",
            "Accuracy of test data   is  75.27000000000001%\n",
            "38370 out of 50000 test samples correctly classified.\n",
            "Accuracy of train data   is  76.74%\n",
            "7681 out of 10000 test samples correctly classified.\n",
            "Accuracy of validation data   is  76.81%\n",
            "Training  took 112.260 seconds.\n",
            "\n",
            "\n",
            "Epoch 0 error 2.3303017616271973\n",
            "Epoch 50 error 1.0728224515914917\n",
            "Epoch 100 error 0.7751679420471191\n",
            "Epoch 150 error 0.6303536891937256\n",
            "Epoch 200 error 0.5487124919891357\n",
            "Epoch 250 error 0.4993182122707367\n",
            "Epoch 300 error 0.463351845741272\n",
            "\n",
            "\n",
            "So for 4 units in fully conn layer   results are\n",
            "8601 out of 10000 test samples correctly classified.\n",
            "Accuracy of test data   is  86.00999999999999%\n",
            "44002 out of 50000 test samples correctly classified.\n",
            "Accuracy of train data   is  88.004%\n",
            "8658 out of 10000 test samples correctly classified.\n",
            "Accuracy of validation data   is  86.58%\n",
            "Training  took 112.246 seconds.\n",
            "\n",
            "\n",
            "Epoch 0 error 2.359452962875366\n",
            "Epoch 50 error 0.9292728900909424\n",
            "Epoch 100 error 0.6919137239456177\n",
            "Epoch 150 error 0.544629693031311\n",
            "Epoch 200 error 0.4443359375\n",
            "Epoch 250 error 0.3800577223300934\n",
            "Epoch 300 error 0.33630964159965515\n",
            "\n",
            "\n",
            "So for 5 units in fully conn layer   results are\n",
            "8951 out of 10000 test samples correctly classified.\n",
            "Accuracy of test data   is  89.51%\n",
            "45896 out of 50000 test samples correctly classified.\n",
            "Accuracy of train data   is  91.792%\n",
            "9041 out of 10000 test samples correctly classified.\n",
            "Accuracy of validation data   is  90.41%\n",
            "Training  took 112.199 seconds.\n",
            "\n",
            "\n",
            "Epoch 0 error 2.327336072921753\n",
            "Epoch 50 error 1.2736804485321045\n",
            "Epoch 100 error 0.7061929702758789\n",
            "Epoch 150 error 0.5281133055686951\n",
            "Epoch 200 error 0.4214898943901062\n",
            "Epoch 250 error 0.342306524515152\n",
            "Epoch 300 error 0.2874816358089447\n",
            "\n",
            "\n",
            "So for 6 units in fully conn layer   results are\n",
            "9123 out of 10000 test samples correctly classified.\n",
            "Accuracy of test data   is  91.23%\n",
            "46747 out of 50000 test samples correctly classified.\n",
            "Accuracy of train data   is  93.494%\n",
            "9165 out of 10000 test samples correctly classified.\n",
            "Accuracy of validation data   is  91.64999999999999%\n",
            "Training  took 112.324 seconds.\n",
            "\n",
            "\n"
          ],
          "name": "stdout"
        }
      ]
    },
    {
      "cell_type": "markdown",
      "metadata": {
        "id": "F_Qfo35QZoY0",
        "colab_type": "text"
      },
      "source": [
        "**Case 6**\n",
        "\n",
        "So now just testing the learning rate of the network with 1 conv layer , 6 units in 1 layer,350 epochs and  6 units in fully connected layer "
      ]
    },
    {
      "cell_type": "code",
      "metadata": {
        "id": "3w8oSyDqZnro",
        "colab_type": "code",
        "outputId": "a4e11397-0b54-4b65-873a-4c3da79a3719",
        "colab": {
          "base_uri": "https://localhost:8080/",
          "height": 709
        }
      },
      "source": [
        "\n",
        "\n",
        "\n",
        "lr=0.01\n",
        "for i in range(2):\n",
        "  nnet = NeuralNetwork_Convolutional(n_channels_in_image=1,\n",
        "                                   image_size=28,\n",
        "                                   n_units_in_conv_layers=[2],\n",
        "                                   kernels_size_and_stride=[[2,1]],# , 5],\n",
        "                                   n_units_in_fc_hidden_layers=[6], # 10, 10],\n",
        "                                   classes=P,\n",
        "                                   use_gpu=True)  \n",
        "\n",
        "\n",
        "  Xtrain1=make_images1(25000,Xtrain)\n",
        "\n",
        "  Xtrain1=torch.tensor(Xtrain1).to('cuda')\n",
        "  Xtrain1=Xtrain1.float()\n",
        "  nnet.train(Xtrain1, Ttrain, 350, learning_rate=lr)\n",
        "  Xtest1=make_images1(5000,Xtest)\n",
        "\n",
        "  Xtest1=torch.tensor(Xtest1).to('cuda')\n",
        "  Xtest1=Xtest1.float()\n",
        "  Yclasses, Y = nnet.use(Xtest1)\n",
        "  Ttest=np.array(Ttest).reshape(10000,1)\n",
        "  print()\n",
        "  print()\n",
        "  print(f'So for learnng rate {lr}    results are')\n",
        "  print(f'{np.sum(Ttest == Yclasses)} out of {Ttest.shape[0]} test samples correctly classified.')\n",
        "  a=np.sum(Ttest == Yclasses)/Ttest.shape[0]*100\n",
        "  print(f'Accuracy of test data   is  {a}%')\n",
        "  \n",
        "  \n",
        "  Yclasses1, Y1 = nnet.use(Xtrain1)\n",
        "  Ttrain=np.array(Ttrain).reshape(50000,1)\n",
        "  print(f'{np.sum(Ttrain == Yclasses1)} out of {Ttrain.shape[0]} test samples correctly classified.')\n",
        "  a1=np.sum(Ttrain == Yclasses1)/Ttrain.shape[0]*100\n",
        "  print(f'Accuracy of train data   is  {a1}%')\n",
        "  \n",
        "  Yclasses2, Y2 = nnet.use(XV)\n",
        "  TV=np.array(TV).reshape(10000,1)\n",
        "  print(f'{np.sum(TV == Yclasses2)} out of {TV.shape[0]} test samples correctly classified.')\n",
        "  a2=np.sum(TV == Yclasses2)/TV.shape[0]*100\n",
        "  print(f'Accuracy of validation data   is  {a2}%')\n",
        "  print(f'Training  took {nnet.training_time:.3f} seconds.')\n",
        "  print()\n",
        "  print()\n",
        "  lr=lr*10\n"
      ],
      "execution_count": 0,
      "outputs": [
        {
          "output_type": "stream",
          "text": [
            "/usr/local/lib/python3.6/dist-packages/ipykernel_launcher.py:137: UserWarning: To copy construct from a tensor, it is recommended to use sourceTensor.clone().detach() or sourceTensor.clone().detach().requires_grad_(True), rather than torch.tensor(sourceTensor).\n"
          ],
          "name": "stderr"
        },
        {
          "output_type": "stream",
          "text": [
            "Epoch 0 error 2.3285634517669678\n",
            "Epoch 50 error 0.8853269815444946\n",
            "Epoch 100 error 0.5329335927963257\n",
            "Epoch 150 error 0.37594345211982727\n",
            "Epoch 200 error 0.29101866483688354\n",
            "Epoch 250 error 0.24838802218437195\n",
            "Epoch 300 error 0.21973566710948944\n"
          ],
          "name": "stdout"
        },
        {
          "output_type": "stream",
          "text": [
            "/usr/local/lib/python3.6/dist-packages/ipykernel_launcher.py:178: UserWarning: To copy construct from a tensor, it is recommended to use sourceTensor.clone().detach() or sourceTensor.clone().detach().requires_grad_(True), rather than torch.tensor(sourceTensor).\n"
          ],
          "name": "stderr"
        },
        {
          "output_type": "stream",
          "text": [
            "\n",
            "\n",
            "So for learnng rate 0.01    results are\n",
            "9206 out of 10000 test samples correctly classified.\n",
            "Accuracy of test data   is  92.06%\n",
            "46773 out of 50000 test samples correctly classified.\n",
            "Accuracy of train data   is  93.54599999999999%\n",
            "9242 out of 10000 test samples correctly classified.\n",
            "Accuracy of validation data   is  92.42%\n",
            "Training  took 112.194 seconds.\n",
            "\n",
            "\n",
            "Epoch 0 error 2.3055317401885986\n",
            "Epoch 50 error 0.6238270998001099\n",
            "Epoch 100 error 0.5024508833885193\n",
            "Epoch 150 error 0.4186032712459564\n",
            "Epoch 200 error 0.3848544657230377\n",
            "Epoch 250 error 0.364090234041214\n",
            "Epoch 300 error 0.3415069878101349\n",
            "\n",
            "\n",
            "So for learnng rate 0.1    results are\n",
            "8874 out of 10000 test samples correctly classified.\n",
            "Accuracy of test data   is  88.74%\n",
            "45515 out of 50000 test samples correctly classified.\n",
            "Accuracy of train data   is  91.03%\n",
            "8915 out of 10000 test samples correctly classified.\n",
            "Accuracy of validation data   is  89.14999999999999%\n",
            "Training  took 111.375 seconds.\n",
            "\n",
            "\n"
          ],
          "name": "stdout"
        }
      ]
    },
    {
      "cell_type": "markdown",
      "metadata": {
        "id": "ZLxuEsBSfK6U",
        "colab_type": "text"
      },
      "source": [
        "**Case 7**\n",
        "\n",
        "So we achieved a 90% accuracy of classification with 1 convolutional layer, 2 units in tthe conv layer ,6 units in  the fully connected layer with a filter of 2*2 with 1 stride and learning rate of 0.01 with a training time of 112.94 sec\n"
      ]
    },
    {
      "cell_type": "markdown",
      "metadata": {
        "id": "555_nfWSPDdd",
        "colab_type": "text"
      },
      "source": [
        "Now doing the same with 2 convolutional layers."
      ]
    },
    {
      "cell_type": "markdown",
      "metadata": {
        "id": "9GLRvi_mfjf9",
        "colab_type": "text"
      },
      "source": [
        "Now testing with number of units in each conv layer in a 2 conv network keeping number of units in the fully connected network as 3 "
      ]
    },
    {
      "cell_type": "code",
      "metadata": {
        "id": "8Y4qsDyGPHtW",
        "colab_type": "code",
        "outputId": "0160b27b-ee66-45c9-e41b-264a28f35dad",
        "colab": {
          "base_uri": "https://localhost:8080/",
          "height": 1000
        }
      },
      "source": [
        "for i in range(2,12):\n",
        "  li=[]\n",
        "\n",
        "  for j in range(2):\n",
        "    li.append(i)\n",
        "  print(li)\n",
        "  kernel=[[2,1]for j in range(2)]\n",
        "  print(kernel)\n",
        "  nnet = NeuralNetwork_Convolutional(n_channels_in_image=1,\n",
        "                                   image_size=28,\n",
        "                                   n_units_in_conv_layers=li,\n",
        "                                   kernels_size_and_stride=kernel,# , 5],\n",
        "                                   n_units_in_fc_hidden_layers=[3], # 10, 10],\n",
        "                                   classes=P,\n",
        "                                   use_gpu=True)\n",
        "\n",
        "  Xtrain1=make_images1(25000,Xtrain)\n",
        "\n",
        "  Xtrain1=torch.tensor(Xtrain1).to('cuda')\n",
        "  Xtrain1=Xtrain1.float()\n",
        "  nnet.train(Xtrain1, Ttrain, 100, learning_rate=0.01)\n",
        "  Xtest1=make_images1(5000,Xtest)\n",
        "\n",
        "  Xtest1=torch.tensor(Xtest1).to('cuda')\n",
        "  Xtest1=Xtest1.float()\n",
        "  Yclasses, Y = nnet.use(Xtest1)\n",
        "  Ttest=np.array(Ttest).reshape(10000,1)\n",
        "  print()\n",
        "  print()\n",
        "  print(f'So for {i} units in 2  conv layers results are')\n",
        "  print(f'{np.sum(Ttest == Yclasses)} out of {Ttest.shape[0]} test samples correctly classified.')\n",
        "  a=np.sum(Ttest == Yclasses)/Ttest.shape[0]*100\n",
        "  print(f'Accuracy of test data   is  {a}%')\n",
        "  \n",
        "  \n",
        "  Yclasses1, Y1 = nnet.use(Xtrain1)\n",
        "  Ttrain=np.array(Ttrain).reshape(50000,1)\n",
        "  print(f'{np.sum(Ttrain == Yclasses1)} out of {Ttrain.shape[0]} test samples correctly classified.')\n",
        "  a1=np.sum(Ttrain == Yclasses1)/Ttrain.shape[0]*100\n",
        "  print(f'Accuracy of train data   is  {a1}%')\n",
        "  \n",
        "  Yclasses2, Y2 = nnet.use(XV)\n",
        "  TV=np.array(TV).reshape(10000,1)\n",
        "  print(f'{np.sum(TV == Yclasses2)} out of {TV.shape[0]} test samples correctly classified.')\n",
        "  a2=np.sum(TV == Yclasses2)/TV.shape[0]*100\n",
        "  print(f'Accuracy of validation data   is  {a2}%')\n",
        "  print(f'Training  took {nnet.training_time:.3f} seconds.')\n",
        "  print()\n",
        "  print()"
      ],
      "execution_count": 0,
      "outputs": [
        {
          "output_type": "stream",
          "text": [
            "[2, 2]\n",
            "[[2, 1], [2, 1]]\n"
          ],
          "name": "stdout"
        },
        {
          "output_type": "stream",
          "text": [
            "/usr/local/lib/python3.6/dist-packages/ipykernel_launcher.py:137: UserWarning: To copy construct from a tensor, it is recommended to use sourceTensor.clone().detach() or sourceTensor.clone().detach().requires_grad_(True), rather than torch.tensor(sourceTensor).\n"
          ],
          "name": "stderr"
        },
        {
          "output_type": "stream",
          "text": [
            "Epoch 0 error 2.360473155975342\n",
            "Epoch 50 error 1.4015876054763794\n"
          ],
          "name": "stdout"
        },
        {
          "output_type": "stream",
          "text": [
            "/usr/local/lib/python3.6/dist-packages/ipykernel_launcher.py:178: UserWarning: To copy construct from a tensor, it is recommended to use sourceTensor.clone().detach() or sourceTensor.clone().detach().requires_grad_(True), rather than torch.tensor(sourceTensor).\n"
          ],
          "name": "stderr"
        },
        {
          "output_type": "stream",
          "text": [
            "\n",
            "\n",
            "So for 2 units in 2  conv layers results are\n",
            "6598 out of 10000 test samples correctly classified.\n",
            "Accuracy of test data   is  65.98%\n",
            "32757 out of 50000 test samples correctly classified.\n",
            "Accuracy of train data   is  65.514%\n",
            "6617 out of 10000 test samples correctly classified.\n",
            "Accuracy of validation data   is  66.17%\n",
            "Training  took 62.307 seconds.\n",
            "\n",
            "\n",
            "[3, 3]\n",
            "[[2, 1], [2, 1]]\n",
            "Epoch 0 error 2.38254976272583\n",
            "Epoch 50 error 1.446295976638794\n",
            "\n",
            "\n",
            "So for 3 units in 2  conv layers results are\n",
            "5930 out of 10000 test samples correctly classified.\n",
            "Accuracy of test data   is  59.3%\n",
            "29765 out of 50000 test samples correctly classified.\n",
            "Accuracy of train data   is  59.53000000000001%\n",
            "5991 out of 10000 test samples correctly classified.\n",
            "Accuracy of validation data   is  59.91%\n",
            "Training  took 67.247 seconds.\n",
            "\n",
            "\n",
            "[4, 4]\n",
            "[[2, 1], [2, 1]]\n",
            "Epoch 0 error 2.345228672027588\n",
            "Epoch 50 error 1.3831065893173218\n",
            "\n",
            "\n",
            "So for 4 units in 2  conv layers results are\n",
            "6516 out of 10000 test samples correctly classified.\n",
            "Accuracy of test data   is  65.16%\n",
            "32561 out of 50000 test samples correctly classified.\n",
            "Accuracy of train data   is  65.122%\n",
            "6508 out of 10000 test samples correctly classified.\n",
            "Accuracy of validation data   is  65.08%\n",
            "Training  took 70.203 seconds.\n",
            "\n",
            "\n",
            "[5, 5]\n",
            "[[2, 1], [2, 1]]\n",
            "Epoch 0 error 2.351313591003418\n",
            "Epoch 50 error 1.3427245616912842\n",
            "\n",
            "\n",
            "So for 5 units in 2  conv layers results are\n",
            "6752 out of 10000 test samples correctly classified.\n",
            "Accuracy of test data   is  67.52%\n",
            "33944 out of 50000 test samples correctly classified.\n",
            "Accuracy of train data   is  67.888%\n",
            "6762 out of 10000 test samples correctly classified.\n",
            "Accuracy of validation data   is  67.62%\n",
            "Training  took 74.357 seconds.\n",
            "\n",
            "\n",
            "[6, 6]\n",
            "[[2, 1], [2, 1]]\n",
            "Epoch 0 error 2.3776936531066895\n",
            "Epoch 50 error 1.4655307531356812\n",
            "\n",
            "\n",
            "So for 6 units in 2  conv layers results are\n",
            "6190 out of 10000 test samples correctly classified.\n",
            "Accuracy of test data   is  61.9%\n",
            "30904 out of 50000 test samples correctly classified.\n",
            "Accuracy of train data   is  61.80799999999999%\n",
            "6226 out of 10000 test samples correctly classified.\n",
            "Accuracy of validation data   is  62.260000000000005%\n",
            "Training  took 77.869 seconds.\n",
            "\n",
            "\n",
            "[7, 7]\n",
            "[[2, 1], [2, 1]]\n",
            "Epoch 0 error 2.3755569458007812\n",
            "Epoch 50 error 1.3983137607574463\n",
            "\n",
            "\n",
            "So for 7 units in 2  conv layers results are\n",
            "5500 out of 10000 test samples correctly classified.\n",
            "Accuracy of test data   is  55.00000000000001%\n",
            "27270 out of 50000 test samples correctly classified.\n",
            "Accuracy of train data   is  54.54%\n",
            "5468 out of 10000 test samples correctly classified.\n",
            "Accuracy of validation data   is  54.67999999999999%\n",
            "Training  took 83.842 seconds.\n",
            "\n",
            "\n",
            "[8, 8]\n",
            "[[2, 1], [2, 1]]\n",
            "Epoch 0 error 2.3536300659179688\n",
            "Epoch 50 error 1.4808123111724854\n",
            "\n",
            "\n",
            "So for 8 units in 2  conv layers results are\n",
            "5169 out of 10000 test samples correctly classified.\n",
            "Accuracy of test data   is  51.690000000000005%\n",
            "26088 out of 50000 test samples correctly classified.\n",
            "Accuracy of train data   is  52.176%\n",
            "5219 out of 10000 test samples correctly classified.\n",
            "Accuracy of validation data   is  52.190000000000005%\n",
            "Training  took 87.955 seconds.\n",
            "\n",
            "\n",
            "[9, 9]\n",
            "[[2, 1], [2, 1]]\n",
            "Epoch 0 error 2.401818037033081\n",
            "Epoch 50 error 2.3017117977142334\n",
            "\n",
            "\n",
            "So for 9 units in 2  conv layers results are\n",
            "1135 out of 10000 test samples correctly classified.\n",
            "Accuracy of test data   is  11.35%\n",
            "5678 out of 50000 test samples correctly classified.\n",
            "Accuracy of train data   is  11.356%\n",
            "1064 out of 10000 test samples correctly classified.\n",
            "Accuracy of validation data   is  10.639999999999999%\n",
            "Training  took 91.550 seconds.\n",
            "\n",
            "\n",
            "[10, 10]\n",
            "[[2, 1], [2, 1]]\n",
            "Epoch 0 error 2.36820912361145\n",
            "Epoch 50 error 1.5134384632110596\n",
            "\n",
            "\n",
            "So for 10 units in 2  conv layers results are\n",
            "6634 out of 10000 test samples correctly classified.\n",
            "Accuracy of test data   is  66.34%\n",
            "33237 out of 50000 test samples correctly classified.\n",
            "Accuracy of train data   is  66.474%\n",
            "6729 out of 10000 test samples correctly classified.\n",
            "Accuracy of validation data   is  67.29%\n",
            "Training  took 96.062 seconds.\n",
            "\n",
            "\n",
            "[11, 11]\n",
            "[[2, 1], [2, 1]]\n",
            "Epoch 0 error 2.3710172176361084\n",
            "Epoch 50 error 2.0609569549560547\n",
            "\n",
            "\n",
            "So for 11 units in 2  conv layers results are\n",
            "2096 out of 10000 test samples correctly classified.\n",
            "Accuracy of test data   is  20.96%\n",
            "10433 out of 50000 test samples correctly classified.\n",
            "Accuracy of train data   is  20.866%\n",
            "1980 out of 10000 test samples correctly classified.\n",
            "Accuracy of validation data   is  19.8%\n",
            "Training  took 100.726 seconds.\n",
            "\n",
            "\n"
          ],
          "name": "stdout"
        }
      ]
    },
    {
      "cell_type": "markdown",
      "metadata": {
        "id": "pmNOFl23kett",
        "colab_type": "text"
      },
      "source": [
        "**Case 8**\n",
        "\n",
        "So the efficient result can be seen for 2 units in the conv layer as it had good accuracy and sufficient training time among others. Now testing with number of epochs."
      ]
    },
    {
      "cell_type": "code",
      "metadata": {
        "id": "I6PgpEavkjTP",
        "colab_type": "code",
        "outputId": "7e165b9c-ade8-45f6-d849-7e23c013dff6",
        "colab": {
          "base_uri": "https://localhost:8080/",
          "height": 1000
        }
      },
      "source": [
        "\n",
        "\n",
        "epoch=100\n",
        "for i in range(2,12):\n",
        "  nnet = NeuralNetwork_Convolutional(n_channels_in_image=1,\n",
        "                                   image_size=28,\n",
        "                                   n_units_in_conv_layers=[2,2],\n",
        "                                   kernels_size_and_stride=[[2,1],[2,1]],# , 5],\n",
        "                                   n_units_in_fc_hidden_layers=[3], # 10, 10],\n",
        "                                   classes=P,\n",
        "                                   use_gpu=True)  \n",
        "\n",
        "\n",
        "  Xtrain1=make_images1(25000,Xtrain)\n",
        "\n",
        "  Xtrain1=torch.tensor(Xtrain1).to('cuda')\n",
        "  Xtrain1=Xtrain1.float()\n",
        "  nnet.train(Xtrain1, Ttrain, epoch, learning_rate=0.01)\n",
        "  Xtest1=make_images1(5000,Xtest)\n",
        "\n",
        "  Xtest1=torch.tensor(Xtest1).to('cuda')\n",
        "  Xtest1=Xtest1.float()\n",
        "  Yclasses, Y = nnet.use(Xtest1)\n",
        "  Ttest=np.array(Ttest).reshape(10000,1)\n",
        "  print()\n",
        "  print()\n",
        "  print(f'So for {epoch} epochs  results are')\n",
        "  print(f'{np.sum(Ttest == Yclasses)} out of {Ttest.shape[0]} test samples correctly classified.')\n",
        "  a=np.sum(Ttest == Yclasses)/Ttest.shape[0]*100\n",
        "  print(f'Accuracy of test data   is  {a}%')\n",
        "  \n",
        "  \n",
        "  Yclasses1, Y1 = nnet.use(Xtrain1)\n",
        "  Ttrain=np.array(Ttrain).reshape(50000,1)\n",
        "  print(f'{np.sum(Ttrain == Yclasses1)} out of {Ttrain.shape[0]} test samples correctly classified.')\n",
        "  a1=np.sum(Ttrain == Yclasses1)/Ttrain.shape[0]*100\n",
        "  print(f'Accuracy of train data   is  {a1}%')\n",
        "  \n",
        "  Yclasses2, Y2 = nnet.use(XV)\n",
        "  TV=np.array(TV).reshape(10000,1)\n",
        "  print(f'{np.sum(TV == Yclasses2)} out of {TV.shape[0]} test samples correctly classified.')\n",
        "  a2=np.sum(TV == Yclasses2)/TV.shape[0]*100\n",
        "  print(f'Accuracy of validation data   is  {a2}%')\n",
        "  print(f'Training  took {nnet.training_time:.3f} seconds.')\n",
        "  print()\n",
        "  print()\n",
        "  epoch=epoch+50"
      ],
      "execution_count": 0,
      "outputs": [
        {
          "output_type": "stream",
          "text": [
            "/usr/local/lib/python3.6/dist-packages/ipykernel_launcher.py:137: UserWarning: To copy construct from a tensor, it is recommended to use sourceTensor.clone().detach() or sourceTensor.clone().detach().requires_grad_(True), rather than torch.tensor(sourceTensor).\n"
          ],
          "name": "stderr"
        },
        {
          "output_type": "stream",
          "text": [
            "Epoch 0 error 2.336493730545044\n",
            "Epoch 50 error 1.381710410118103\n"
          ],
          "name": "stdout"
        },
        {
          "output_type": "stream",
          "text": [
            "/usr/local/lib/python3.6/dist-packages/ipykernel_launcher.py:178: UserWarning: To copy construct from a tensor, it is recommended to use sourceTensor.clone().detach() or sourceTensor.clone().detach().requires_grad_(True), rather than torch.tensor(sourceTensor).\n"
          ],
          "name": "stderr"
        },
        {
          "output_type": "stream",
          "text": [
            "\n",
            "\n",
            "So for 100 epochs  results are\n",
            "6713 out of 10000 test samples correctly classified.\n",
            "Accuracy of test data   is  67.13%\n",
            "33364 out of 50000 test samples correctly classified.\n",
            "Accuracy of train data   is  66.728%\n",
            "6821 out of 10000 test samples correctly classified.\n",
            "Accuracy of validation data   is  68.21000000000001%\n",
            "Training  took 62.289 seconds.\n",
            "\n",
            "\n",
            "Epoch 0 error 2.3721635341644287\n",
            "Epoch 50 error 1.340882658958435\n",
            "Epoch 100 error 0.9981932044029236\n",
            "\n",
            "\n",
            "So for 150 epochs  results are\n",
            "7463 out of 10000 test samples correctly classified.\n",
            "Accuracy of test data   is  74.63%\n",
            "37515 out of 50000 test samples correctly classified.\n",
            "Accuracy of train data   is  75.03%\n",
            "7493 out of 10000 test samples correctly classified.\n",
            "Accuracy of validation data   is  74.92999999999999%\n",
            "Training  took 96.537 seconds.\n",
            "\n",
            "\n",
            "Epoch 0 error 2.3812716007232666\n",
            "Epoch 50 error 1.7299443483352661\n",
            "Epoch 100 error 1.3502389192581177\n",
            "Epoch 150 error 1.115965723991394\n",
            "\n",
            "\n",
            "So for 200 epochs  results are\n",
            "6144 out of 10000 test samples correctly classified.\n",
            "Accuracy of test data   is  61.44%\n",
            "30814 out of 50000 test samples correctly classified.\n",
            "Accuracy of train data   is  61.62800000000001%\n",
            "6140 out of 10000 test samples correctly classified.\n",
            "Accuracy of validation data   is  61.4%\n",
            "Training  took 130.830 seconds.\n",
            "\n",
            "\n",
            "Epoch 0 error 2.3437633514404297\n",
            "Epoch 50 error 1.3974223136901855\n",
            "Epoch 100 error 1.1295268535614014\n",
            "Epoch 150 error 0.968198299407959\n",
            "Epoch 200 error 0.8683720827102661\n",
            "\n",
            "\n",
            "So for 250 epochs  results are\n",
            "7154 out of 10000 test samples correctly classified.\n",
            "Accuracy of test data   is  71.54%\n",
            "36290 out of 50000 test samples correctly classified.\n",
            "Accuracy of train data   is  72.58%\n",
            "7228 out of 10000 test samples correctly classified.\n",
            "Accuracy of validation data   is  72.28%\n",
            "Training  took 165.023 seconds.\n",
            "\n",
            "\n",
            "Epoch 0 error 2.3520822525024414\n",
            "Epoch 50 error 1.318890929222107\n",
            "Epoch 100 error 1.0412992238998413\n",
            "Epoch 150 error 0.9193332195281982\n",
            "Epoch 200 error 0.7634876370429993\n",
            "Epoch 250 error 0.6883634328842163\n",
            "\n",
            "\n",
            "So for 300 epochs  results are\n",
            "7429 out of 10000 test samples correctly classified.\n",
            "Accuracy of test data   is  74.29%\n",
            "37657 out of 50000 test samples correctly classified.\n",
            "Accuracy of train data   is  75.31400000000001%\n",
            "7448 out of 10000 test samples correctly classified.\n",
            "Accuracy of validation data   is  74.48%\n",
            "Training  took 199.446 seconds.\n",
            "\n",
            "\n",
            "Epoch 0 error 2.341965913772583\n",
            "Epoch 50 error 1.372312307357788\n",
            "Epoch 100 error 1.154746651649475\n",
            "Epoch 150 error 0.991383969783783\n",
            "Epoch 200 error 0.8382658362388611\n",
            "Epoch 250 error 0.7387327551841736\n",
            "Epoch 300 error 0.6984638571739197\n",
            "\n",
            "\n",
            "So for 350 epochs  results are\n",
            "7830 out of 10000 test samples correctly classified.\n",
            "Accuracy of test data   is  78.3%\n",
            "39565 out of 50000 test samples correctly classified.\n",
            "Accuracy of train data   is  79.13%\n",
            "7903 out of 10000 test samples correctly classified.\n",
            "Accuracy of validation data   is  79.03%\n",
            "Training  took 233.658 seconds.\n",
            "\n",
            "\n",
            "Epoch 0 error 2.350461483001709\n",
            "Epoch 50 error 2.173806667327881\n",
            "Epoch 100 error 1.3872393369674683\n",
            "Epoch 150 error 1.0705276727676392\n",
            "Epoch 200 error 0.9413224458694458\n",
            "Epoch 250 error 0.8162907958030701\n",
            "Epoch 300 error 0.7578274011611938\n",
            "Epoch 350 error 0.6846466660499573\n",
            "\n",
            "\n",
            "So for 400 epochs  results are\n",
            "7735 out of 10000 test samples correctly classified.\n",
            "Accuracy of test data   is  77.35%\n",
            "39007 out of 50000 test samples correctly classified.\n",
            "Accuracy of train data   is  78.014%\n",
            "7780 out of 10000 test samples correctly classified.\n",
            "Accuracy of validation data   is  77.8%\n",
            "Training  took 267.890 seconds.\n",
            "\n",
            "\n",
            "Epoch 0 error 2.358464479446411\n",
            "Epoch 50 error 1.5683501958847046\n",
            "Epoch 100 error 1.1416354179382324\n",
            "Epoch 150 error 0.9653353095054626\n",
            "Epoch 200 error 0.863123893737793\n",
            "Epoch 250 error 0.7851245999336243\n",
            "Epoch 300 error 0.7278006076812744\n",
            "Epoch 350 error 0.6797915101051331\n",
            "Epoch 400 error 0.6396293640136719\n",
            "\n",
            "\n",
            "So for 450 epochs  results are\n",
            "8044 out of 10000 test samples correctly classified.\n",
            "Accuracy of test data   is  80.44%\n",
            "40556 out of 50000 test samples correctly classified.\n",
            "Accuracy of train data   is  81.112%\n",
            "8057 out of 10000 test samples correctly classified.\n",
            "Accuracy of validation data   is  80.57%\n",
            "Training  took 302.010 seconds.\n",
            "\n",
            "\n",
            "Epoch 0 error 2.3747246265411377\n",
            "Epoch 50 error 1.4085170030593872\n",
            "Epoch 100 error 1.0938808917999268\n",
            "Epoch 150 error 0.9664468169212341\n",
            "Epoch 200 error 0.8316746354103088\n",
            "Epoch 250 error 0.7161952257156372\n",
            "Epoch 300 error 0.6521714329719543\n",
            "Epoch 350 error 0.6097350120544434\n",
            "Epoch 400 error 0.5937713384628296\n",
            "Epoch 450 error 0.5705493688583374\n",
            "\n",
            "\n",
            "So for 500 epochs  results are\n",
            "8292 out of 10000 test samples correctly classified.\n",
            "Accuracy of test data   is  82.92%\n",
            "41949 out of 50000 test samples correctly classified.\n",
            "Accuracy of train data   is  83.898%\n",
            "8227 out of 10000 test samples correctly classified.\n",
            "Accuracy of validation data   is  82.27%\n",
            "Training  took 336.422 seconds.\n",
            "\n",
            "\n",
            "Epoch 0 error 2.3495798110961914\n",
            "Epoch 50 error 1.4340393543243408\n",
            "Epoch 100 error 1.0774997472763062\n",
            "Epoch 150 error 0.9515136480331421\n",
            "Epoch 200 error 0.8606533408164978\n",
            "Epoch 250 error 0.7936198711395264\n",
            "Epoch 300 error 0.7370128035545349\n",
            "Epoch 350 error 0.6942323446273804\n",
            "Epoch 400 error 0.6727807521820068\n",
            "Epoch 450 error 0.6570490598678589\n",
            "Epoch 500 error 0.6422588229179382\n",
            "\n",
            "\n",
            "So for 550 epochs  results are\n",
            "7750 out of 10000 test samples correctly classified.\n",
            "Accuracy of test data   is  77.5%\n",
            "39454 out of 50000 test samples correctly classified.\n",
            "Accuracy of train data   is  78.908%\n",
            "7818 out of 10000 test samples correctly classified.\n",
            "Accuracy of validation data   is  78.18%\n",
            "Training  took 370.737 seconds.\n",
            "\n",
            "\n"
          ],
          "name": "stdout"
        }
      ]
    },
    {
      "cell_type": "markdown",
      "metadata": {
        "id": "Hs5pa0sdrEZH",
        "colab_type": "text"
      },
      "source": [
        "**Case 9**\n",
        "\n",
        "so we take 350 epochs  2 conv layers with 2 units in each layer. Now we test the number of units in the fully connected layer"
      ]
    },
    {
      "cell_type": "code",
      "metadata": {
        "id": "sAT5E0CirURC",
        "colab_type": "code",
        "outputId": "b9f61adf-90b5-4078-ba8d-ca7e7a11ed80",
        "colab": {
          "base_uri": "https://localhost:8080/",
          "height": 1000
        }
      },
      "source": [
        "\n",
        "\n",
        "for i in range(3,7):\n",
        "  nnet = NeuralNetwork_Convolutional(n_channels_in_image=1,\n",
        "                                   image_size=28,\n",
        "                                   n_units_in_conv_layers=[2,2],\n",
        "                                   kernels_size_and_stride=[[2,1],[2,1]],# , 5],\n",
        "                                   n_units_in_fc_hidden_layers=[i], # 10, 10],\n",
        "                                   classes=P,\n",
        "                                   use_gpu=True)  \n",
        "\n",
        "\n",
        "  Xtrain1=make_images1(25000,Xtrain)\n",
        "\n",
        "  Xtrain1=torch.tensor(Xtrain1).to('cuda')\n",
        "  Xtrain1=Xtrain1.float()\n",
        "  nnet.train(Xtrain1, Ttrain, 350, learning_rate=0.01)\n",
        "  Xtest1=make_images1(5000,Xtest)\n",
        "\n",
        "  Xtest1=torch.tensor(Xtest1).to('cuda')\n",
        "  Xtest1=Xtest1.float()\n",
        "  Yclasses, Y = nnet.use(Xtest1)\n",
        "  Ttest=np.array(Ttest).reshape(10000,1)\n",
        "  print()\n",
        "  print()\n",
        "  print(f'So for {i} units in fully conn layer   results are')\n",
        "  print(f'{np.sum(Ttest == Yclasses)} out of {Ttest.shape[0]} test samples correctly classified.')\n",
        "  a=np.sum(Ttest == Yclasses)/Ttest.shape[0]*100\n",
        "  print(f'Accuracy of test data   is  {a}%')\n",
        "  \n",
        "  \n",
        "  Yclasses1, Y1 = nnet.use(Xtrain1)\n",
        "  Ttrain=np.array(Ttrain).reshape(50000,1)\n",
        "  print(f'{np.sum(Ttrain == Yclasses1)} out of {Ttrain.shape[0]} test samples correctly classified.')\n",
        "  a1=np.sum(Ttrain == Yclasses1)/Ttrain.shape[0]*100\n",
        "  print(f'Accuracy of train data   is  {a1}%')\n",
        "  \n",
        "  Yclasses2, Y2 = nnet.use(XV)\n",
        "  TV=np.array(TV).reshape(10000,1)\n",
        "  print(f'{np.sum(TV == Yclasses2)} out of {TV.shape[0]} test samples correctly classified.')\n",
        "  a2=np.sum(TV == Yclasses2)/TV.shape[0]*100\n",
        "  print(f'Accuracy of validation data   is  {a2}%')\n",
        "  print(f'Training  took {nnet.training_time:.3f} seconds.')\n",
        "  print()\n",
        "  print()\n"
      ],
      "execution_count": 0,
      "outputs": [
        {
          "output_type": "stream",
          "text": [
            "/usr/local/lib/python3.6/dist-packages/ipykernel_launcher.py:137: UserWarning: To copy construct from a tensor, it is recommended to use sourceTensor.clone().detach() or sourceTensor.clone().detach().requires_grad_(True), rather than torch.tensor(sourceTensor).\n"
          ],
          "name": "stderr"
        },
        {
          "output_type": "stream",
          "text": [
            "Epoch 0 error 2.334127187728882\n",
            "Epoch 50 error 1.5128860473632812\n",
            "Epoch 100 error 1.1356557607650757\n",
            "Epoch 150 error 0.9761335253715515\n",
            "Epoch 200 error 0.9022238850593567\n",
            "Epoch 250 error 0.8380777835845947\n",
            "Epoch 300 error 0.7280965447425842\n"
          ],
          "name": "stdout"
        },
        {
          "output_type": "stream",
          "text": [
            "/usr/local/lib/python3.6/dist-packages/ipykernel_launcher.py:178: UserWarning: To copy construct from a tensor, it is recommended to use sourceTensor.clone().detach() or sourceTensor.clone().detach().requires_grad_(True), rather than torch.tensor(sourceTensor).\n"
          ],
          "name": "stderr"
        },
        {
          "output_type": "stream",
          "text": [
            "\n",
            "\n",
            "So for 3 units in fully conn layer   results are\n",
            "7927 out of 10000 test samples correctly classified.\n",
            "Accuracy of test data   is  79.27%\n",
            "40024 out of 50000 test samples correctly classified.\n",
            "Accuracy of train data   is  80.048%\n",
            "7966 out of 10000 test samples correctly classified.\n",
            "Accuracy of validation data   is  79.66%\n",
            "Training  took 233.568 seconds.\n",
            "\n",
            "\n",
            "Epoch 0 error 2.357254981994629\n",
            "Epoch 50 error 1.207971453666687\n",
            "Epoch 100 error 0.8971073627471924\n",
            "Epoch 150 error 0.6816371083259583\n",
            "Epoch 200 error 0.5682219862937927\n",
            "Epoch 250 error 0.46468308568000793\n",
            "Epoch 300 error 0.4278651177883148\n",
            "\n",
            "\n",
            "So for 4 units in fully conn layer   results are\n",
            "8818 out of 10000 test samples correctly classified.\n",
            "Accuracy of test data   is  88.18%\n",
            "44528 out of 50000 test samples correctly classified.\n",
            "Accuracy of train data   is  89.056%\n",
            "8837 out of 10000 test samples correctly classified.\n",
            "Accuracy of validation data   is  88.37%\n",
            "Training  took 233.625 seconds.\n",
            "\n",
            "\n",
            "Epoch 0 error 2.341076135635376\n",
            "Epoch 50 error 1.151045560836792\n",
            "Epoch 100 error 0.6994232535362244\n",
            "Epoch 150 error 0.5609184503555298\n",
            "Epoch 200 error 0.4840810298919678\n",
            "Epoch 250 error 0.40317636728286743\n",
            "Epoch 300 error 0.32341626286506653\n",
            "\n",
            "\n",
            "So for 5 units in fully conn layer   results are\n",
            "9197 out of 10000 test samples correctly classified.\n",
            "Accuracy of test data   is  91.97%\n",
            "46454 out of 50000 test samples correctly classified.\n",
            "Accuracy of train data   is  92.908%\n",
            "9189 out of 10000 test samples correctly classified.\n",
            "Accuracy of validation data   is  91.89%\n",
            "Training  took 233.523 seconds.\n",
            "\n",
            "\n",
            "Epoch 0 error 2.3600218296051025\n",
            "Epoch 50 error 1.1173592805862427\n",
            "Epoch 100 error 0.6357858180999756\n",
            "Epoch 150 error 0.47456082701683044\n",
            "Epoch 200 error 0.37516582012176514\n",
            "Epoch 250 error 0.30220574140548706\n",
            "Epoch 300 error 0.24925671517848969\n",
            "\n",
            "\n",
            "So for 6 units in fully conn layer   results are\n",
            "9248 out of 10000 test samples correctly classified.\n",
            "Accuracy of test data   is  92.47999999999999%\n",
            "47189 out of 50000 test samples correctly classified.\n",
            "Accuracy of train data   is  94.378%\n",
            "9326 out of 10000 test samples correctly classified.\n",
            "Accuracy of validation data   is  93.26%\n",
            "Training  took 233.661 seconds.\n",
            "\n",
            "\n"
          ],
          "name": "stdout"
        }
      ]
    },
    {
      "cell_type": "markdown",
      "metadata": {
        "id": "U22aU2Bh13z6",
        "colab_type": "text"
      },
      "source": [
        "**Case 10**\n",
        "\n",
        "\n",
        "Now we will test with the learning rates. So the network will be of 2 conv layers, with 2 units in each layer , with 6 units in the hidden connected layer and 350 epochs with a filter of 2*2 with a stride of 1 ."
      ]
    },
    {
      "cell_type": "code",
      "metadata": {
        "id": "O6qUW0Ko2Rsc",
        "colab_type": "code",
        "outputId": "b80a37c0-6d28-4c51-968e-cf5d84f79555",
        "colab": {
          "base_uri": "https://localhost:8080/",
          "height": 709
        }
      },
      "source": [
        "\n",
        "\n",
        "\n",
        "lr=0.01\n",
        "for i in range(2):\n",
        "  nnet = NeuralNetwork_Convolutional(n_channels_in_image=1,\n",
        "                                   image_size=28,\n",
        "                                   n_units_in_conv_layers=[2,2],\n",
        "                                   kernels_size_and_stride=[[2,1],[2,1]],# , 5],\n",
        "                                   n_units_in_fc_hidden_layers=[6], # 10, 10],\n",
        "                                   classes=P,\n",
        "                                   use_gpu=True)  \n",
        "\n",
        "\n",
        "  Xtrain1=make_images1(25000,Xtrain)\n",
        "\n",
        "  Xtrain1=torch.tensor(Xtrain1).to('cuda')\n",
        "  Xtrain1=Xtrain1.float()\n",
        "  nnet.train(Xtrain1, Ttrain, 350, learning_rate=lr)\n",
        "  Xtest1=make_images1(5000,Xtest)\n",
        "\n",
        "  Xtest1=torch.tensor(Xtest1).to('cuda')\n",
        "  Xtest1=Xtest1.float()\n",
        "  Yclasses, Y = nnet.use(Xtest1)\n",
        "  Ttest=np.array(Ttest).reshape(10000,1)\n",
        "  print()\n",
        "  print()\n",
        "  print(f'So for learnng rate {lr}    results are')\n",
        "  print(f'{np.sum(Ttest == Yclasses)} out of {Ttest.shape[0]} test samples correctly classified.')\n",
        "  a=np.sum(Ttest == Yclasses)/Ttest.shape[0]*100\n",
        "  print(f'Accuracy of test data   is  {a}%')\n",
        "  \n",
        "  \n",
        "  Yclasses1, Y1 = nnet.use(Xtrain1)\n",
        "  Ttrain=np.array(Ttrain).reshape(50000,1)\n",
        "  print(f'{np.sum(Ttrain == Yclasses1)} out of {Ttrain.shape[0]} test samples correctly classified.')\n",
        "  a1=np.sum(Ttrain == Yclasses1)/Ttrain.shape[0]*100\n",
        "  print(f'Accuracy of train data   is  {a1}%')\n",
        "  \n",
        "  Yclasses2, Y2 = nnet.use(XV)\n",
        "  TV=np.array(TV).reshape(10000,1)\n",
        "  print(f'{np.sum(TV == Yclasses2)} out of {TV.shape[0]} test samples correctly classified.')\n",
        "  a2=np.sum(TV == Yclasses2)/TV.shape[0]*100\n",
        "  print(f'Accuracy of validation data   is  {a2}%')\n",
        "  print(f'Training  took {nnet.training_time:.3f} seconds.')\n",
        "  print()\n",
        "  print()\n",
        "  lr=lr*10\n"
      ],
      "execution_count": 0,
      "outputs": [
        {
          "output_type": "stream",
          "text": [
            "/usr/local/lib/python3.6/dist-packages/ipykernel_launcher.py:137: UserWarning: To copy construct from a tensor, it is recommended to use sourceTensor.clone().detach() or sourceTensor.clone().detach().requires_grad_(True), rather than torch.tensor(sourceTensor).\n"
          ],
          "name": "stderr"
        },
        {
          "output_type": "stream",
          "text": [
            "Epoch 0 error 2.3244075775146484\n",
            "Epoch 50 error 0.9444521069526672\n",
            "Epoch 100 error 0.6012100577354431\n",
            "Epoch 150 error 0.4696700870990753\n",
            "Epoch 200 error 0.37455612421035767\n",
            "Epoch 250 error 0.29774120450019836\n",
            "Epoch 300 error 0.24946387112140656\n"
          ],
          "name": "stdout"
        },
        {
          "output_type": "stream",
          "text": [
            "/usr/local/lib/python3.6/dist-packages/ipykernel_launcher.py:178: UserWarning: To copy construct from a tensor, it is recommended to use sourceTensor.clone().detach() or sourceTensor.clone().detach().requires_grad_(True), rather than torch.tensor(sourceTensor).\n"
          ],
          "name": "stderr"
        },
        {
          "output_type": "stream",
          "text": [
            "\n",
            "\n",
            "So for learnng rate 0.01    results are\n",
            "9339 out of 10000 test samples correctly classified.\n",
            "Accuracy of test data   is  93.39%\n",
            "47162 out of 50000 test samples correctly classified.\n",
            "Accuracy of train data   is  94.324%\n",
            "9319 out of 10000 test samples correctly classified.\n",
            "Accuracy of validation data   is  93.19%\n",
            "Training  took 233.737 seconds.\n",
            "\n",
            "\n",
            "Epoch 0 error 2.331159830093384\n",
            "Epoch 50 error 2.3015787601470947\n",
            "Epoch 100 error 2.3010048866271973\n",
            "Epoch 150 error 2.301020860671997\n",
            "Epoch 200 error 2.30102801322937\n",
            "Epoch 250 error 2.3010034561157227\n",
            "Epoch 300 error 2.3010034561157227\n",
            "\n",
            "\n",
            "So for learnng rate 0.1    results are\n",
            "1135 out of 10000 test samples correctly classified.\n",
            "Accuracy of test data   is  11.35%\n",
            "5678 out of 50000 test samples correctly classified.\n",
            "Accuracy of train data   is  11.356%\n",
            "1064 out of 10000 test samples correctly classified.\n",
            "Accuracy of validation data   is  10.639999999999999%\n",
            "Training  took 231.269 seconds.\n",
            "\n",
            "\n"
          ],
          "name": "stdout"
        }
      ]
    },
    {
      "cell_type": "markdown",
      "metadata": {
        "id": "wS2NeBGr4WuT",
        "colab_type": "text"
      },
      "source": [
        "So we see that a network with 1 convolutional layer with 2 units in each layer with 6 units in the fully connected layer and a learning rate of 0.01 gives an accuracy of 92.06% on test dataset ,93.55% on train dataset and 92.42% on validation dataset.\n",
        "Accuracy of test data   is  92.06% with a training time of 112.169 sec.\n",
        "\n",
        "On the other hand we see that a network with 2 convolutional layers , with 2 units in each layer and with 6 units in the fully connected layer and a learning rate  of 0.01 gives an acuracy of 93.39% on test dataset ,94.32% on train dataset and  93.19% on validation dataset with a training time of 233.737 sec.\n",
        "\n",
        "\n",
        "Both of them use the same filter i.e. 2*2 with a strde of 1"
      ]
    },
    {
      "cell_type": "markdown",
      "metadata": {
        "id": "1owVXjnj63_W",
        "colab_type": "text"
      },
      "source": [
        "So although the accuracy increased a bit in the network havng 2 conv layers , that increase does not justify the increase in training time. \n",
        "\n",
        "\n",
        "So the network that works well is a network with 1 convolutional layer with 2 units in each layer with 6 units in the fully connected layer and a learning rate of 0.01 .\n",
        "\n",
        "but again if we change the kernel and stride we can get a different value . The following has been shown in the extra credit part."
      ]
    },
    {
      "cell_type": "markdown",
      "metadata": {
        "id": "qVgj9ijYCFdb",
        "colab_type": "text"
      },
      "source": [
        "So **Case 11** has been shown in the extra credit part 1 with a different kernel size"
      ]
    },
    {
      "cell_type": "markdown",
      "metadata": {
        "id": "ZYKOeDVvuEDz",
        "colab_type": "text"
      },
      "source": [
        "# Grading\n",
        "\n"
      ]
    },
    {
      "cell_type": "code",
      "metadata": {
        "id": "uDyf-PCeuED0",
        "colab_type": "code",
        "outputId": "dc4f9f57-f948-418b-bbec-024722a0590e",
        "colab": {
          "base_uri": "https://localhost:8080/",
          "height": 1000
        }
      },
      "source": [
        "#%run -i A4grader.py"
      ],
      "execution_count": 0,
      "outputs": [
        {
          "output_type": "stream",
          "text": [
            "\n",
            "======================= Code Execution =======================\n",
            "\n",
            "Extracting python code from notebook named 'Roy-A4.ipynb' and storing in notebookcode.py\n",
            "Removing all statements that are not function or class defs or import statements.\n",
            "\n",
            "Testing if your NeuralNetwork_Convolutional can learn to classify a small \n",
            "subset of hand_drawn 0, 1, and 2 digits.\n",
            "\n",
            "import numpy as np\n",
            "import pickle, gzip\n",
            "\n",
            "# Load the dataset\n",
            "with gzip.open('mnist.pkl.gz', 'rb') as f:\n",
            "    train_set, valid_set, test_set = pickle.load(f, encoding='latin1')\n",
            "Xtest = test_set[0]\n",
            "traini = [3,  10,  13,  25,  28,  55,  69,  71, 101, 126, 2,   5,  14,  29,  31,  37,  39,  40,  46,  57, 1,  35,  38,  43,  47,  72,  77,  82, 106, 119]\n",
            "testi = [136, 148, 157, 183, 188, 192, 194, 215, 246, 269,  74,  89,  94, 96, 107, 135, 137, 143, 145, 154, 147, 149, 172, 174, 186, 199, 208, 221, 222, 225]\n",
            "Xtrain = test_set[0][traini, :].reshape(-1, 1, 28, 28)\n",
            "Ttrain = test_set[1][traini].reshape(-1, 1)\n",
            "Xtest = test_set[0][testi, :].reshape(-1, 1, 28, 28)\n",
            "Ttest = test_set[1][testi].reshape(-1, 1)\n",
            "\n",
            "torch.random.manual_seed(42)\n",
            "\n",
            "nnet = NeuralNetwork_Convolutional(n_channels_in_image=Xtrain.shape[1],\n",
            "                                   image_size=Xtrain.shape[2],\n",
            "                                   n_units_in_conv_layers=[5, 5],\n",
            "                                   kernels_size_and_stride=[[5, 3], [4, 2]],\n",
            "                                   n_units_in_fc_hidden_layers=[10],\n",
            "                                   classes=[0, 1, 2],\n",
            "                                   use_gpu=False)\n",
            "\n",
            "nnet.train(Xtrain, Ttrain, 20, learning_rate=0.01)\n",
            "Yclasses, Y = nnet.use(Xtest)\n",
            "n_correct = (Yclasses == Ttest).sum()\n",
            "print(f'{n_correct} out of {Ttest.shape[0]} samples, or {n_correct/Ttest.shape[0]*100:.2f} percent.')\n",
            "\n",
            "Epoch 0 error 1.1164677143096924\n",
            "Epoch 10 error 0.3168463706970215\n",
            "27 out of 30 samples, or 90.00 percent.\n",
            "\n",
            "--- 80/80 points. Returned correct value of 27.\n",
            "\n",
            "Testing \n",
            "errors = nnet.get_error_trace()\n",
            "\n",
            "\n",
            "--- 10/10 points. Returned correct number of errors in error_trace.\n",
            "\n",
            "======================================================================\n",
            "content Execution Grade is 90 / 90\n",
            "======================================================================\n",
            "\n",
            " __ / 10 You show results for at least 10 different runs having various\n",
            "values for number of layers, units, and epochs for modeling MNIST data.\n",
            "You must show percent correct for train, validation and test sets for each run.\n",
            "Discuss your results. \n",
            "\n",
            "======================================================================\n",
            "content FINAL GRADE is  _  / 100\n",
            "======================================================================\n",
            "\n",
            "Extra Credit:\n",
            "1. For one of your runs, display the output images of your convolutional layers \n",
            "   and the weights for those layers.  Discuss what you see.  Describe why the\n",
            "   displayed weight patterns result in the output images of the first convolutional\n",
            "   layer.\n",
            "2. Make at least one of your runs on a workstation with a GPU and run with use_gpu=True.\n",
            "   Also run it with use_gpu=False.  Discuss the differences in training times.\n",
            "\n",
            "content EXTRA CREDIT is 0 / 2\n"
          ],
          "name": "stdout"
        },
        {
          "output_type": "display_data",
          "data": {
            "text/plain": [
              "<Figure size 432x288 with 0 Axes>"
            ]
          },
          "metadata": {
            "tags": []
          }
        }
      ]
    },
    {
      "cell_type": "markdown",
      "metadata": {
        "id": "0wQoXtNywy_w",
        "colab_type": "text"
      },
      "source": [
        "Extra Credit 1"
      ]
    },
    {
      "cell_type": "markdown",
      "metadata": {
        "id": "2CukKaAb8U9k",
        "colab_type": "text"
      },
      "source": [
        "We make a network with 2 convolutional layers, the layer containing 2 units and the second layer containing 3 units  , with 1 fully connected layers with 6 units each and with  a filter of size 3*3 with a stride of 2 and with 500 epochs."
      ]
    },
    {
      "cell_type": "code",
      "metadata": {
        "id": "7H5S2yqd7nBj",
        "colab_type": "code",
        "outputId": "76d2323a-37df-46f2-c44b-da9d40001fe0",
        "colab": {
          "base_uri": "https://localhost:8080/",
          "height": 423
        }
      },
      "source": [
        "  nnet = NeuralNetwork_Convolutional(n_channels_in_image=1,\n",
        "                                   image_size=28,\n",
        "                                   n_units_in_conv_layers=[2,3],\n",
        "                                   kernels_size_and_stride=[[3,2],[3,2]],# , 5],\n",
        "                                   n_units_in_fc_hidden_layers=[6], # 10, 10],\n",
        "                                   classes=P,\n",
        "                                   use_gpu=True)  \n",
        "\n",
        "\n",
        "  Xtrain1=make_images1(25000,Xtrain)\n",
        "\n",
        "  Xtrain1=torch.tensor(Xtrain1).to('cuda')\n",
        "  Xtrain1=Xtrain1.float()\n",
        "  nnet.train(Xtrain1, Ttrain, 500, learning_rate=0.01)\n",
        "  Xtest1=make_images1(5000,Xtest)\n",
        "\n",
        "  Xtest1=torch.tensor(Xtest1).to('cuda')\n",
        "  Xtest1=Xtest1.float()\n",
        "  Yclasses, Y = nnet.use(Xtest1)\n",
        "  Ttest=np.array(Ttest).reshape(10000,1)\n",
        "  print()\n",
        "  print()\n",
        "  print(f'{np.sum(Ttest == Yclasses)} out of {Ttest.shape[0]} test samples correctly classified.')\n",
        "  a=np.sum(Ttest == Yclasses)/Ttest.shape[0]*100\n",
        "  print(f'Accuracy of test data   is  {a}%')\n",
        "  \n",
        "  \n",
        "  Yclasses1, Y1 = nnet.use(Xtrain1)\n",
        "  Ttrain=np.array(Ttrain).reshape(50000,1)\n",
        "  print(f'{np.sum(Ttrain == Yclasses1)} out of {Ttrain.shape[0]} test samples correctly classified.')\n",
        "  a1=np.sum(Ttrain == Yclasses1)/Ttrain.shape[0]*100\n",
        "  print(f'Accuracy of train data   is  {a1}%')\n",
        "  \n",
        "  Yclasses2, Y2 = nnet.use(XV)\n",
        "  TV=np.array(TV).reshape(10000,1)\n",
        "  print(f'{np.sum(TV == Yclasses2)} out of {TV.shape[0]} test samples correctly classified.')\n",
        "  a2=np.sum(TV == Yclasses2)/TV.shape[0]*100\n",
        "  print(f'Accuracy of validation data   is  {a2}%')\n",
        "  print(f'Training  took {nnet.training_time:.3f} seconds.')\n",
        "  print()\n",
        "  print()"
      ],
      "execution_count": 0,
      "outputs": [
        {
          "output_type": "stream",
          "text": [
            "/usr/local/lib/python3.6/dist-packages/ipykernel_launcher.py:137: UserWarning: To copy construct from a tensor, it is recommended to use sourceTensor.clone().detach() or sourceTensor.clone().detach().requires_grad_(True), rather than torch.tensor(sourceTensor).\n"
          ],
          "name": "stderr"
        },
        {
          "output_type": "stream",
          "text": [
            "Epoch 0 error 2.365222692489624\n",
            "Epoch 50 error 0.9488264322280884\n",
            "Epoch 100 error 0.559618353843689\n",
            "Epoch 150 error 0.4464861750602722\n",
            "Epoch 200 error 0.3748335540294647\n",
            "Epoch 250 error 0.3235929608345032\n",
            "Epoch 300 error 0.29146867990493774\n",
            "Epoch 350 error 0.2690604031085968\n",
            "Epoch 400 error 0.25386032462120056\n",
            "Epoch 450 error 0.23886612057685852\n",
            "\n",
            "\n",
            "9364 out of 10000 test samples correctly classified.\n",
            "Accuracy of test data   is  93.64%\n",
            "46764 out of 50000 test samples correctly classified.\n",
            "Accuracy of train data   is  93.528%\n",
            "9422 out of 10000 test samples correctly classified.\n",
            "Accuracy of validation data   is  94.22%\n",
            "Training  took 74.999 seconds.\n",
            "\n",
            "\n"
          ],
          "name": "stdout"
        },
        {
          "output_type": "stream",
          "text": [
            "/usr/local/lib/python3.6/dist-packages/ipykernel_launcher.py:178: UserWarning: To copy construct from a tensor, it is recommended to use sourceTensor.clone().detach() or sourceTensor.clone().detach().requires_grad_(True), rather than torch.tensor(sourceTensor).\n"
          ],
          "name": "stderr"
        }
      ]
    },
    {
      "cell_type": "markdown",
      "metadata": {
        "id": "8o5a_IQa98ow",
        "colab_type": "text"
      },
      "source": [
        "So we see an accuracy of 93.64% on test datatset and 93.528% on train dataset adn 94.22% on validation datatset with a training time of 74.99 sec which is by far  beats the previous networks."
      ]
    },
    {
      "cell_type": "code",
      "metadata": {
        "id": "lr7dGAngw0yC",
        "colab_type": "code",
        "outputId": "91bbe1d5-691e-40d3-e51d-e96a824b92fd",
        "colab": {
          "base_uri": "https://localhost:8080/",
          "height": 265
        }
      },
      "source": [
        "X_sample = Xtest1[0:1, :, :, :]\n",
        "plt.imshow(X_sample[0, 0, :, :].detach().cpu(), cmap='binary')\n",
        "plt.axis('off')"
      ],
      "execution_count": 0,
      "outputs": [
        {
          "output_type": "execute_result",
          "data": {
            "text/plain": [
              "(-0.5, 27.5, 27.5, -0.5)"
            ]
          },
          "metadata": {
            "tags": []
          },
          "execution_count": 86
        },
        {
          "output_type": "display_data",
          "data": {
            "image/png": "[encoded data removed]",
            "text/plain": [
              "<Figure size 432x288 with 1 Axes>"
            ]
          },
          "metadata": {
            "tags": []
          }
        }
      ]
    },
    {
      "cell_type": "markdown",
      "metadata": {
        "id": "r4-lnYOi-Uzf",
        "colab_type": "text"
      },
      "source": [
        "Now showing the output of first convolutional neural network"
      ]
    },
    {
      "cell_type": "code",
      "metadata": {
        "id": "zJdfOZ54zh10",
        "colab_type": "code",
        "outputId": "577437aa-b531-4443-df8e-05af55351f2a",
        "colab": {
          "base_uri": "https://localhost:8080/",
          "height": 184
        }
      },
      "source": [
        "print('output  of first convolutional layer')\n",
        "show_layer_output(nnet, X_sample, 0);\n"
      ],
      "execution_count": 0,
      "outputs": [
        {
          "output_type": "stream",
          "text": [
            "output  of first convolutional layer\n"
          ],
          "name": "stdout"
        },
        {
          "output_type": "stream",
          "text": [
            "/usr/local/lib/python3.6/dist-packages/ipykernel_launcher.py:178: UserWarning: To copy construct from a tensor, it is recommended to use sourceTensor.clone().detach() or sourceTensor.clone().detach().requires_grad_(True), rather than torch.tensor(sourceTensor).\n"
          ],
          "name": "stderr"
        },
        {
          "output_type": "display_data",
          "data": {
            "image/png": "[encoded data removed]",
            "text/plain": [
              "<Figure size 432x288 with 2 Axes>"
            ]
          },
          "metadata": {
            "tags": []
          }
        }
      ]
    },
    {
      "cell_type": "markdown",
      "metadata": {
        "id": "73EfSe0X-aAc",
        "colab_type": "text"
      },
      "source": [
        "So as the first convolutional layer has 2 units  it  shows 2 ouputs. \n",
        "\n",
        "\n",
        "The first unit applies the kernel on the input image.\n",
        "\n",
        "\n",
        "The second unit applies the kernel on the input image "
      ]
    },
    {
      "cell_type": "markdown",
      "metadata": {
        "id": "xm9JmVEN-rtw",
        "colab_type": "text"
      },
      "source": [
        "Now showing the output of the second convolutional layer."
      ]
    },
    {
      "cell_type": "code",
      "metadata": {
        "id": "xoG-aSOjzw68",
        "colab_type": "code",
        "outputId": "224deca8-aa12-4de5-f049-7bddcdcc71f0",
        "colab": {
          "base_uri": "https://localhost:8080/",
          "height": 302
        }
      },
      "source": [
        "print('output  of second convolutional layer')\n",
        "show_layer_output(nnet, X_sample, 1);\n"
      ],
      "execution_count": 0,
      "outputs": [
        {
          "output_type": "stream",
          "text": [
            "output  of second convolutional layer\n"
          ],
          "name": "stdout"
        },
        {
          "output_type": "stream",
          "text": [
            "/usr/local/lib/python3.6/dist-packages/ipykernel_launcher.py:178: UserWarning: To copy construct from a tensor, it is recommended to use sourceTensor.clone().detach() or sourceTensor.clone().detach().requires_grad_(True), rather than torch.tensor(sourceTensor).\n"
          ],
          "name": "stderr"
        },
        {
          "output_type": "display_data",
          "data": {
            "image/png": "[encoded data removed]",
            "text/plain": [
              "<Figure size 432x288 with 3 Axes>"
            ]
          },
          "metadata": {
            "tags": []
          }
        }
      ]
    },
    {
      "cell_type": "markdown",
      "metadata": {
        "id": "wFXvOGVz-1GH",
        "colab_type": "text"
      },
      "source": [
        "So the same thing as the second convolutional layer has 3 units it shows 3 outputs and the logic is same as the first one. Output of one layer  becomes the input of the other layer."
      ]
    },
    {
      "cell_type": "markdown",
      "metadata": {
        "id": "rN5C3z0k_DOW",
        "colab_type": "text"
      },
      "source": [
        "Now showing the weights of the first layer"
      ]
    },
    {
      "cell_type": "code",
      "metadata": {
        "id": "aeH6mZ2N2R5W",
        "colab_type": "code",
        "outputId": "d2cff141-a44b-444b-c3cc-4b3dafb556a0",
        "colab": {
          "base_uri": "https://localhost:8080/",
          "height": 130
        }
      },
      "source": [
        "\n",
        "show_layer_weights(nnet, 0);"
      ],
      "execution_count": 0,
      "outputs": [
        {
          "output_type": "display_data",
          "data": {
            "image/png": "[encoded data removed]",
            "text/plain": [
              "<Figure size 432x288 with 2 Axes>"
            ]
          },
          "metadata": {
            "tags": []
          }
        }
      ]
    },
    {
      "cell_type": "markdown",
      "metadata": {
        "id": "PKjt2wnZ_lKY",
        "colab_type": "text"
      },
      "source": [
        "So the weights from the first unit of the first convolutional layer is used to convolve the image and as a  result a lighter image is produced with a darer shade at the top corner according to the weights . And when that result is taken as input byu the second unit it applies its own weight and due to the presence of a black pixel it also produces a more dark black type thing."
      ]
    },
    {
      "cell_type": "markdown",
      "metadata": {
        "id": "dO3udB30_IhJ",
        "colab_type": "text"
      },
      "source": [
        "Showing the weights of the second layer"
      ]
    },
    {
      "cell_type": "code",
      "metadata": {
        "id": "osb5xVb62bEn",
        "colab_type": "code",
        "outputId": "1eef7638-0371-407c-8444-85adb113c79d",
        "colab": {
          "base_uri": "https://localhost:8080/",
          "height": 248
        }
      },
      "source": [
        "show_layer_weights(nnet, 1);"
      ],
      "execution_count": 0,
      "outputs": [
        {
          "output_type": "display_data",
          "data": {
            "image/png": "[encoded data removed]",
            "text/plain": [
              "<Figure size 432x288 with 3 Axes>"
            ]
          },
          "metadata": {
            "tags": []
          }
        }
      ]
    },
    {
      "cell_type": "markdown",
      "metadata": {
        "id": "zpR5PZiZ2jl9",
        "colab_type": "text"
      },
      "source": [
        "Extra Credit 2"
      ]
    },
    {
      "cell_type": "markdown",
      "metadata": {
        "id": "Yvg5kXnf2z6L",
        "colab_type": "text"
      },
      "source": [
        "First with gpu=False"
      ]
    },
    {
      "cell_type": "code",
      "metadata": {
        "id": "xv0beBKy2lMk",
        "colab_type": "code",
        "outputId": "a79a9a7e-51b1-4550-d72d-dc83ee08d5f5",
        "colab": {
          "base_uri": "https://localhost:8080/",
          "height": 423
        }
      },
      "source": [
        "nnet = NeuralNetwork_Convolutional(n_channels_in_image=1,\n",
        "                                   image_size=28,\n",
        "                                   n_units_in_conv_layers=[5],\n",
        "                                   kernels_size_and_stride=[[3,2]],# , 5],\n",
        "                                   n_units_in_fc_hidden_layers=[2], # 10, 10],\n",
        "                                   classes=P,\n",
        "                                   use_gpu=False)\n",
        "\n",
        "Xtrain1=make_images1(25000,Xtrain)\n",
        "\n",
        "Xtrain1=torch.tensor(Xtrain1)\n",
        "Xtrain1=Xtrain1.float()\n",
        "nnet.train(Xtrain1, Ttrain, 200, learning_rate=0.01)"
      ],
      "execution_count": 0,
      "outputs": [
        {
          "output_type": "stream",
          "text": [
            "/usr/local/lib/python3.6/dist-packages/ipykernel_launcher.py:137: UserWarning: To copy construct from a tensor, it is recommended to use sourceTensor.clone().detach() or sourceTensor.clone().detach().requires_grad_(True), rather than torch.tensor(sourceTensor).\n"
          ],
          "name": "stderr"
        },
        {
          "output_type": "stream",
          "text": [
            "Epoch 0 error 2.3856313228607178\n",
            "Epoch 10 error 1.968096137046814\n",
            "Epoch 20 error 1.8511104583740234\n",
            "Epoch 30 error 1.7621294260025024\n",
            "Epoch 40 error 1.6827312707901\n",
            "Epoch 50 error 1.610481858253479\n",
            "Epoch 60 error 1.5470079183578491\n",
            "Epoch 70 error 1.4921107292175293\n",
            "Epoch 80 error 1.4486924409866333\n",
            "Epoch 90 error 1.4089754819869995\n",
            "Epoch 100 error 1.3777592182159424\n",
            "Epoch 110 error 1.3500617742538452\n",
            "Epoch 120 error 1.328441858291626\n",
            "Epoch 130 error 1.3077043294906616\n",
            "Epoch 140 error 1.2894625663757324\n",
            "Epoch 150 error 1.2748444080352783\n",
            "Epoch 160 error 1.2626150846481323\n",
            "Epoch 170 error 1.2525144815444946\n",
            "Epoch 180 error 1.2446321249008179\n",
            "Epoch 190 error 1.232884407043457\n"
          ],
          "name": "stdout"
        }
      ]
    },
    {
      "cell_type": "markdown",
      "metadata": {
        "id": "ye66QYQw3P1r",
        "colab_type": "text"
      },
      "source": [
        "Training time for gpu=false"
      ]
    },
    {
      "cell_type": "code",
      "metadata": {
        "id": "APEVmWOv295a",
        "colab_type": "code",
        "outputId": "36d4fee3-390d-4d9c-8ea3-6cad2c8b60b0",
        "colab": {
          "base_uri": "https://localhost:8080/",
          "height": 35
        }
      },
      "source": [
        "print(f'  Training took {nnet.training_time:.3f} seconds.')"
      ],
      "execution_count": 0,
      "outputs": [
        {
          "output_type": "stream",
          "text": [
            "  Training took 350.909 seconds.\n"
          ],
          "name": "stdout"
        }
      ]
    },
    {
      "cell_type": "markdown",
      "metadata": {
        "id": "6c5m5Zq53Z2g",
        "colab_type": "text"
      },
      "source": [
        "Nw with gpu=true"
      ]
    },
    {
      "cell_type": "code",
      "metadata": {
        "id": "ZRS2wSnd3b3F",
        "colab_type": "code",
        "outputId": "2c5ec8a5-820c-4939-e042-8e0215de79c9",
        "colab": {
          "base_uri": "https://localhost:8080/",
          "height": 423
        }
      },
      "source": [
        "nnet = NeuralNetwork_Convolutional(n_channels_in_image=1,\n",
        "                                   image_size=28,\n",
        "                                   n_units_in_conv_layers=[5],\n",
        "                                   kernels_size_and_stride=[[3,2]],# , 5],\n",
        "                                   n_units_in_fc_hidden_layers=[2], # 10, 10],\n",
        "                                   classes=P,\n",
        "                                   use_gpu=True)\n",
        "\n",
        "Xtrain1=make_images1(25000,Xtrain)\n",
        "\n",
        "Xtrain1=torch.tensor(Xtrain1).to('cuda')\n",
        "Xtrain1=Xtrain1.float()\n",
        "nnet.train(Xtrain1, Ttrain, 200, learning_rate=0.01)"
      ],
      "execution_count": 0,
      "outputs": [
        {
          "output_type": "stream",
          "text": [
            "/usr/local/lib/python3.6/dist-packages/ipykernel_launcher.py:137: UserWarning: To copy construct from a tensor, it is recommended to use sourceTensor.clone().detach() or sourceTensor.clone().detach().requires_grad_(True), rather than torch.tensor(sourceTensor).\n"
          ],
          "name": "stderr"
        },
        {
          "output_type": "stream",
          "text": [
            "Epoch 0 error 2.3590621948242188\n",
            "Epoch 10 error 1.9480531215667725\n",
            "Epoch 20 error 1.815647840499878\n",
            "Epoch 30 error 1.7194641828536987\n",
            "Epoch 40 error 1.6438478231430054\n",
            "Epoch 50 error 1.5867663621902466\n",
            "Epoch 60 error 1.5411614179611206\n",
            "Epoch 70 error 1.5029754638671875\n",
            "Epoch 80 error 1.4691754579544067\n",
            "Epoch 90 error 1.4380563497543335\n",
            "Epoch 100 error 1.408936858177185\n",
            "Epoch 110 error 1.3811194896697998\n",
            "Epoch 120 error 1.3546298742294312\n",
            "Epoch 130 error 1.3296074867248535\n",
            "Epoch 140 error 1.3065170049667358\n",
            "Epoch 150 error 1.2857012748718262\n",
            "Epoch 160 error 1.2673454284667969\n",
            "Epoch 170 error 1.2621870040893555\n",
            "Epoch 180 error 1.24311363697052\n",
            "Epoch 190 error 1.230446457862854\n"
          ],
          "name": "stdout"
        }
      ]
    },
    {
      "cell_type": "markdown",
      "metadata": {
        "id": "8gmHvqt93ltD",
        "colab_type": "text"
      },
      "source": [
        "Time for GPU=true"
      ]
    },
    {
      "cell_type": "code",
      "metadata": {
        "id": "vrpCt_nq3ogZ",
        "colab_type": "code",
        "outputId": "53e0a997-70e5-4a32-f5d8-e64f1d22d9b9",
        "colab": {
          "base_uri": "https://localhost:8080/",
          "height": 35
        }
      },
      "source": [
        "print(f'  Training took {nnet.training_time:.3f} seconds.')"
      ],
      "execution_count": 0,
      "outputs": [
        {
          "output_type": "stream",
          "text": [
            "  Training took 22.598 seconds.\n"
          ],
          "name": "stdout"
        }
      ]
    },
    {
      "cell_type": "markdown",
      "metadata": {
        "id": "iAiLuH1JizDP",
        "colab_type": "text"
      },
      "source": [
        "So we can see that without gpu traning time is 350.909 sec while that with gpu is 22.598 sec. So there is a huge time difference. This is due to the fact that gpu can make several computations in a parallel manner due to presence of huge number of cores in GPU while the cpu cannot. \n",
        "\n",
        "\n",
        "Again if the dataset size is very small  the result will be reversed as the tme of taking the values from gpu to cpu is going to be affecting the runtime."
      ]
    },
    {
      "cell_type": "code",
      "metadata": {
        "id": "got-KgZrjVh6",
        "colab_type": "code",
        "colab": {}
      },
      "source": [
        ""
      ],
      "execution_count": 0,
      "outputs": []
    }
  ]
}